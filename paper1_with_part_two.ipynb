{
 "cells": [
  {
   "cell_type": "code",
   "execution_count": 4,
   "metadata": {},
   "outputs": [],
   "source": [
    "import torch\n",
    "import os"
   ]
  },
  {
   "cell_type": "code",
   "execution_count": 5,
   "metadata": {},
   "outputs": [],
   "source": [
    "train_dir = os.path.join('dataset', 'part_one_dataset', 'train_data')\n",
    "eval_dir = os.path.join('dataset', 'part_one_dataset', 'eval_data')\n",
    "save_dir = os.path.join('vit_embeds')"
   ]
  },
  {
   "cell_type": "code",
   "execution_count": null,
   "metadata": {},
   "outputs": [
    {
     "name": "stderr",
     "output_type": "stream",
     "text": [
      "/tmp/ipykernel_237843/1130122073.py:9: FutureWarning: You are using `torch.load` with `weights_only=False` (the current default value), which uses the default pickle module implicitly. It is possible to construct malicious pickle data which will execute arbitrary code during unpickling (See https://github.com/pytorch/pytorch/blob/main/SECURITY.md#untrusted-models for more details). In a future release, the default value for `weights_only` will be flipped to `True`. This limits the functions that could be executed during unpickling. Arbitrary objects will no longer be allowed to be loaded via this mode unless they are explicitly allowlisted by the user via `torch.serialization.add_safe_globals`. We recommend you start setting `weights_only=True` for any use case where you don't have full control of the loaded file. Please open an issue on GitHub for any issues related to this experimental feature.\n",
      "  domains[j]['features'] = torch.load(os.path.join(save_dir,f'train_embeds_{j+1}.pt'))\n"
     ]
    }
   ],
   "source": [
    "domains = [{} for _ in range(20)]\n",
    "\n",
    "for j in range(10):\n",
    "    \n",
    "    train_path = os.path.join(train_dir, f'{j+1}_train_data.tar.pth')\n",
    "    t = torch.load(train_path, weights_only = False)\n",
    "    \n",
    "    domains[j]['labels'] = t['targets'] if 'targets' in t else None\n",
    "    domains[j]['features'] = torch.load(os.path.join(save_dir,f'train_embeds_{j+1}.pt'))"
   ]
  },
  {
   "cell_type": "code",
   "execution_count": null,
   "metadata": {},
   "outputs": [
    {
     "name": "stderr",
     "output_type": "stream",
     "text": [
      "/tmp/ipykernel_237843/3214602843.py:11: FutureWarning: You are using `torch.load` with `weights_only=False` (the current default value), which uses the default pickle module implicitly. It is possible to construct malicious pickle data which will execute arbitrary code during unpickling (See https://github.com/pytorch/pytorch/blob/main/SECURITY.md#untrusted-models for more details). In a future release, the default value for `weights_only` will be flipped to `True`. This limits the functions that could be executed during unpickling. Arbitrary objects will no longer be allowed to be loaded via this mode unless they are explicitly allowlisted by the user via `torch.serialization.add_safe_globals`. We recommend you start setting `weights_only=True` for any use case where you don't have full control of the loaded file. Please open an issue on GitHub for any issues related to this experimental feature.\n",
      "  eval_domains[j]['features'] = torch.load(os.path.join(save_dir,f'eval_embeds_{j+1}.pt'))\n"
     ]
    }
   ],
   "source": [
    "eval_domains = [{} for _ in range(20)]\n",
    "\n",
    "for j in range(10):\n",
    "    \n",
    "    eval_path = os.path.join(eval_dir, f'{j+1}_eval_data.tar.pth')\n",
    "    t = torch.load(eval_path, weights_only = False)\n",
    "\n",
    "    data = t['data'] # both numpy.ndarray\n",
    "    \n",
    "    eval_domains[j]['labels'] = t['targets'] if 'targets' in t else None\n",
    "    eval_domains[j]['features'] = torch.load(os.path.join(save_dir,f'eval_embeds_{j+1}.pt'))"
   ]
  },
  {
   "cell_type": "code",
   "execution_count": null,
   "metadata": {},
   "outputs": [],
   "source": [
    "train_dir = os.path.join('dataset', 'part_two_dataset', 'train_data')\n",
    "eval_dir = os.path.join('dataset', 'part_two_dataset', 'eval_data')\n",
    "save_dir = os.path.join('part_2_vit_embeds')"
   ]
  },
  {
   "cell_type": "code",
   "execution_count": null,
   "metadata": {},
   "outputs": [
    {
     "name": "stderr",
     "output_type": "stream",
     "text": [
      "/tmp/ipykernel_223571/1130122073.py:9: FutureWarning: You are using `torch.load` with `weights_only=False` (the current default value), which uses the default pickle module implicitly. It is possible to construct malicious pickle data which will execute arbitrary code during unpickling (See https://github.com/pytorch/pytorch/blob/main/SECURITY.md#untrusted-models for more details). In a future release, the default value for `weights_only` will be flipped to `True`. This limits the functions that could be executed during unpickling. Arbitrary objects will no longer be allowed to be loaded via this mode unless they are explicitly allowlisted by the user via `torch.serialization.add_safe_globals`. We recommend you start setting `weights_only=True` for any use case where you don't have full control of the loaded file. Please open an issue on GitHub for any issues related to this experimental feature.\n",
      "  domains[j]['features'] = torch.load(os.path.join(save_dir,f'train_embeds_{j+1}.pt'))\n"
     ]
    }
   ],
   "source": [
    "for j in range(10):\n",
    "    \n",
    "    train_path = os.path.join(train_dir, f'{j+1}_train_data.tar.pth')\n",
    "    t = torch.load(train_path, weights_only = False)\n",
    "    \n",
    "    domains[j+10]['labels'] = t['targets'] if 'targets' in t else None\n",
    "    domains[j+10]['features'] = torch.load(os.path.join(save_dir,f'train_embeds_{j+1}.pt'))"
   ]
  },
  {
   "cell_type": "code",
   "execution_count": null,
   "metadata": {},
   "outputs": [
    {
     "name": "stderr",
     "output_type": "stream",
     "text": [
      "/tmp/ipykernel_223571/1130122073.py:9: FutureWarning: You are using `torch.load` with `weights_only=False` (the current default value), which uses the default pickle module implicitly. It is possible to construct malicious pickle data which will execute arbitrary code during unpickling (See https://github.com/pytorch/pytorch/blob/main/SECURITY.md#untrusted-models for more details). In a future release, the default value for `weights_only` will be flipped to `True`. This limits the functions that could be executed during unpickling. Arbitrary objects will no longer be allowed to be loaded via this mode unless they are explicitly allowlisted by the user via `torch.serialization.add_safe_globals`. We recommend you start setting `weights_only=True` for any use case where you don't have full control of the loaded file. Please open an issue on GitHub for any issues related to this experimental feature.\n",
      "  domains[j]['features'] = torch.load(os.path.join(save_dir,f'train_embeds_{j+1}.pt'))\n"
     ]
    }
   ],
   "source": [
    "for j in range(10):\n",
    "    \n",
    "    train_path = os.path.join(eval_dir, f'{j+1}_eval_data.tar.pth')\n",
    "    t = torch.load(train_path, weights_only = False)\n",
    "    \n",
    "    eval_domains[j+10]['labels'] = t['targets'] if 'targets' in t else None\n",
    "    domains[j+10]['features'] = torch.load(os.path.join(save_dir,f'train_embeds_{j+1}.pt'))"
   ]
  },
  {
   "cell_type": "code",
   "execution_count": 7,
   "metadata": {},
   "outputs": [],
   "source": [
    "import numpy as np\n",
    "from sklearn.metrics.pairwise import euclidean_distances\n",
    "\n",
    "class LWP:\n",
    "    def __init__(self):\n",
    "        self.prototypes = {}\n",
    "        self.class_counts = {i:0 for i in range(10)}\n",
    "    \n",
    "    def fit(self, features, labels):\n",
    "        unique_labels = np.unique(labels)\n",
    "        \n",
    "        for label in unique_labels:\n",
    "            \n",
    "            samples = features[labels == label]\n",
    "            num_samples = len(samples)\n",
    "            \n",
    "            # if label not in self.prototypes:\n",
    "            if True :\n",
    "                self.prototypes[label] = samples.mean(axis=0)\n",
    "                self.class_counts[label] = len(samples)\n",
    "            else:\n",
    "                self.class_counts[label] += len(samples)\n",
    "                self.prototypes[label] = (self.class_counts[label] - num_samples) / self.class_counts[label] * self.prototypes[label] + num_samples/ self.class_counts[label] * samples.mean(axis=0)\n",
    "                \n",
    "            \n",
    "    def predict(self, features):\n",
    "        preds = []\n",
    "        for feature in features:\n",
    "            distances = {label: np.linalg.norm(feature - proto) for label, proto in self.prototypes.items()}\n",
    "            preds.append(min(distances, key=distances.get))\n",
    "        return np.array(preds)"
   ]
  },
  {
   "cell_type": "code",
   "execution_count": 8,
   "metadata": {},
   "outputs": [],
   "source": [
    "def sample_from_gmms(gmms, n_samples, sampling_probabilities, num_classes = 10):\n",
    "    pseudo_features = []\n",
    "    pseudo_labels = []\n",
    "    \n",
    "    for i in range(num_classes):\n",
    "        # Determine the number of samples for this class based on its probability\n",
    "        num_class_samples = int(n_samples * sampling_probabilities[i])\n",
    "        \n",
    "        # Sample from the ith GMM\n",
    "        class_samples, _ = gmms[i].sample(num_class_samples)\n",
    "        \n",
    "        # Append the samples and corresponding class labels\n",
    "        pseudo_features.append(class_samples)\n",
    "        pseudo_labels.extend([i] * num_class_samples)\n",
    "    \n",
    "    # Concatenate the features and labels\n",
    "    pseudo_features = np.concatenate(pseudo_features, axis=0)\n",
    "    pseudo_labels = np.array(pseudo_labels)\n",
    "    \n",
    "    return pseudo_features, pseudo_labels"
   ]
  },
  {
   "cell_type": "code",
   "execution_count": 14,
   "metadata": {},
   "outputs": [],
   "source": [
    "from sklearn.mixture import GaussianMixture\n",
    "\n",
    "num_classes = 10\n",
    "buffer_size_per_class = 250\n",
    "models = []\n",
    "\n",
    "buffer_dataset = {'features': [], 'labels': []}\n",
    "source_dataset = domains[0]\n",
    "gmms = [None] * num_classes\n",
    "\n",
    "model = LWP()\n",
    "model.fit(source_dataset['features'], source_dataset['labels'])\n",
    "models.append(model)\n",
    "\n",
    "class_frequencies = [np.sum(source_dataset['labels'] == i) for i in range(num_classes)]\n",
    "total_samples = np.sum(class_frequencies)\n",
    "sampling_probabilities = np.array(class_frequencies) / total_samples\n",
    "\n",
    "# Update GMM Models\n",
    "for i in range(num_classes):\n",
    "    gmms[i] = GaussianMixture(n_components=2, covariance_type='full', random_state=42)\n",
    "    gmms[i].fit(source_dataset['features'][source_dataset['labels'] == i])\n",
    "    \n",
    "for i in range(num_classes):\n",
    "    # Get all the samples of class 'i' from the current dataset\n",
    "    class_samples = source_dataset['features'][source_dataset['labels'] == i]\n",
    "    \n",
    "    # Get the mean (centroid) of the class from the GMM\n",
    "    class_mean = gmms[i].means_.mean(axis=0)  # Use the mean of the GMM components\n",
    "    \n",
    "    # Compute the distance of each sample to the class mean\n",
    "    distances = np.linalg.norm(class_samples - class_mean, axis=1)\n",
    "    \n",
    "    # Select the 'buffer_size_per_class' least distant samples\n",
    "    least_distant_indices = np.argsort(distances)[:buffer_size_per_class]\n",
    "    \n",
    "    # Add these least distant samples to the buffer\n",
    "    buffer_dataset['features'].append(class_samples[least_distant_indices])\n",
    "    buffer_dataset['labels'].append([i] * buffer_size_per_class)\n",
    "\n",
    "# Convert buffer_dataset to numpy arrays\n",
    "buffer_dataset['features'] = np.concatenate(buffer_dataset['features'], axis=0)\n",
    "buffer_dataset['labels'] = np.concatenate(buffer_dataset['labels'], axis=0)"
   ]
  },
  {
   "cell_type": "code",
   "execution_count": null,
   "metadata": {},
   "outputs": [],
   "source": [
    "pseudo_size = 2500\n",
    "num_iters = 10\n",
    "\n",
    "for i in range(1, 20) :\n",
    "    curr_dataset = domains[i]['features']\n",
    "    curr_dataset_labels = model.predict(curr_dataset)\n",
    "    \n",
    "    pseudo_dataset = {'features': [], 'labels': []}\n",
    "    \n",
    "    pseudo_dataset['features'], pseudo_dataset['labels'] = sample_from_gmms(gmms, pseudo_size, sampling_probabilities, num_classes = 10)\n",
    "    \n",
    "    for j in range(num_iters):\n",
    "        batch_size_pseudo = len(pseudo_dataset['features']) // num_iters\n",
    "        batch_pseudo = pseudo_dataset['features'][j*batch_size_pseudo:(j+1)*batch_size_pseudo]\n",
    "        batch_pseudo_labels = pseudo_dataset['labels'][j*batch_size_pseudo:(j+1)*batch_size_pseudo]\n",
    "        \n",
    "        batch_size_curr = len(curr_dataset) // num_iters\n",
    "        batch_curr = curr_dataset[j*batch_size_curr:(j+1)*batch_size_curr]\n",
    "        batch_curr_labels = curr_dataset_labels[j*batch_size_curr:(j+1)*batch_size_curr]\n",
    "        \n",
    "        # Combine the current dataset with the pseudo dataset\n",
    "        batch = np.concatenate([batch_curr, batch_pseudo], axis=0)\n",
    "        batch_labels = np.concatenate([batch_curr_labels, batch_pseudo_labels], axis=0)\n",
    "        \n",
    "        model.fit(batch, batch_labels)\n",
    "        \n",
    "    models.append(model)\n",
    "    \n",
    "    # Update GMM Models\n",
    "    for i in range(num_classes):\n",
    "        gmms[i] = GaussianMixture(n_components=2, covariance_type='full', random_state=42)\n",
    "        gmms[i].fit(pseudo_dataset['features'][pseudo_dataset['labels'] == i])\n",
    "    \n",
    "    new_buffer = []\n",
    "    new_buffer_labels = []\n",
    "    \n",
    "    for i in range(num_classes):\n",
    "        # Get all the samples of class 'i' from the current dataset\n",
    "        class_samples = pseudo_dataset['features'][pseudo_dataset['labels'] == i]\n",
    "        \n",
    "        # Get the mean (centroid) of the class from the GMM\n",
    "        class_mean = gmms[i].means_.mean(axis=0)  # Use the mean of the GMM components\n",
    "        \n",
    "        # Compute the distance of each sample to the class mean\n",
    "        distances = np.linalg.norm(class_samples - class_mean, axis=1)\n",
    "        \n",
    "        # Select the 'buffer_size_per_class' least distant samples\n",
    "        least_distant_indices = np.argsort(distances)[:buffer_size_per_class]\n",
    "        \n",
    "        # Add these least distant samples to the buffer\n",
    "        new_buffer.append(class_samples[least_distant_indices])\n",
    "        new_buffer_labels.append([i] * buffer_size_per_class)\n",
    "\n",
    "    new_buffer = np.concatenate(new_buffer, axis=0)\n",
    "    new_buffer_labels = np.concatenate(new_buffer_labels, axis=0)\n",
    "\n",
    "    # Convert buffer_dataset to numpy arrays\n",
    "    buffer_dataset['features'] = np.concatenate([buffer_dataset['features'], new_buffer], axis=0)\n",
    "    buffer_dataset['labels'] = np.concatenate([buffer_dataset['labels'], new_buffer_labels], axis=0)"
   ]
  },
  {
   "cell_type": "code",
   "execution_count": 17,
   "metadata": {},
   "outputs": [],
   "source": [
    "from sklearn.metrics import accuracy_score\n",
    "import pandas as pd\n",
    "\n",
    "model = LWP()\n",
    "model.fit(domains[0]['features'], domains[0]['labels'])\n",
    "\n",
    "df = pd.DataFrame()\n",
    "\n",
    "for idx,model in enumerate(models) :\n",
    "    \n",
    "    scores = []\n",
    "    for eval_domain in eval_domains[:idx+1]:\n",
    "        \n",
    "        features = eval_domain['features']\n",
    "        labels = eval_domain['labels']\n",
    "        \n",
    "        preds = model.predict(features)\n",
    "        acc = accuracy_score(labels, preds)\n",
    "        \n",
    "        scores.append(acc)\n",
    "    \n",
    "    df[f'Domain {idx+1}'] = scores + [np.nan] * (len(eval_domains) - len(scores))"
   ]
  },
  {
   "cell_type": "code",
   "execution_count": 18,
   "metadata": {},
   "outputs": [
    {
     "name": "stdout",
     "output_type": "stream",
     "text": [
      "   Domain 1  Domain 2  Domain 3  Domain 4  Domain 5  Domain 6  Domain 7  \\\n",
      "0    0.8384    0.8384    0.8384    0.8384    0.8384    0.8384    0.8384   \n",
      "1       NaN    0.8416    0.8416    0.8416    0.8416    0.8416    0.8416   \n",
      "2       NaN       NaN    0.8444    0.8444    0.8444    0.8444    0.8444   \n",
      "3       NaN       NaN       NaN    0.8676    0.8676    0.8676    0.8676   \n",
      "4       NaN       NaN       NaN       NaN    0.8552    0.8552    0.8552   \n",
      "5       NaN       NaN       NaN       NaN       NaN    0.8676    0.8676   \n",
      "6       NaN       NaN       NaN       NaN       NaN       NaN    0.8532   \n",
      "7       NaN       NaN       NaN       NaN       NaN       NaN       NaN   \n",
      "8       NaN       NaN       NaN       NaN       NaN       NaN       NaN   \n",
      "9       NaN       NaN       NaN       NaN       NaN       NaN       NaN   \n",
      "\n",
      "   Domain 8  Domain 9  Domain 10  \n",
      "0    0.8384    0.8384     0.8384  \n",
      "1    0.8416    0.8416     0.8416  \n",
      "2    0.8444    0.8444     0.8444  \n",
      "3    0.8676    0.8676     0.8676  \n",
      "4    0.8552    0.8552     0.8552  \n",
      "5    0.8676    0.8676     0.8676  \n",
      "6    0.8532    0.8532     0.8532  \n",
      "7    0.8396    0.8396     0.8396  \n",
      "8       NaN    0.8508     0.8508  \n",
      "9       NaN       NaN     0.8588  \n"
     ]
    }
   ],
   "source": [
    "print(df)"
   ]
  },
  {
   "cell_type": "code",
   "execution_count": null,
   "metadata": {},
   "outputs": [],
   "source": []
  }
 ],
 "metadata": {
  "kernelspec": {
   "display_name": "771",
   "language": "python",
   "name": "python3"
  },
  "language_info": {
   "codemirror_mode": {
    "name": "ipython",
    "version": 3
   },
   "file_extension": ".py",
   "mimetype": "text/x-python",
   "name": "python",
   "nbconvert_exporter": "python",
   "pygments_lexer": "ipython3",
   "version": "3.12.5"
  }
 },
 "nbformat": 4,
 "nbformat_minor": 2
}
