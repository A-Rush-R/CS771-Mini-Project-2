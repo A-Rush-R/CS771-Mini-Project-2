{
 "cells": [
  {
   "cell_type": "code",
   "execution_count": 1,
   "metadata": {},
   "outputs": [],
   "source": [
    "import torch\n",
    "import os\n",
    "from torchvision import transforms"
   ]
  },
  {
   "cell_type": "code",
   "execution_count": 2,
   "metadata": {},
   "outputs": [],
   "source": [
    "train_dir = os.path.join('dataset', 'part_one_dataset', 'train_data')\n",
    "eval_dir = os.path.join('dataset', 'part_one_dataset', 'eval_data')"
   ]
  },
  {
   "cell_type": "code",
   "execution_count": 3,
   "metadata": {},
   "outputs": [],
   "source": [
    "train_path = os.path.join(train_dir, '1_train_data.tar.pth')\n",
    "eval_path = os.path.join(eval_dir, '1_eval_data.tar.pth')\n",
    "\n",
    "t = torch.load(train_path, weights_only = False)"
   ]
  },
  {
   "cell_type": "code",
   "execution_count": 4,
   "metadata": {},
   "outputs": [
    {
     "name": "stderr",
     "output_type": "stream",
     "text": [
      "/home/arush-upadhyaya/anaconda3/envs/771/lib/python3.12/site-packages/torch/cuda/__init__.py:129: UserWarning: CUDA initialization: CUDA unknown error - this may be due to an incorrectly set up environment, e.g. changing env variable CUDA_VISIBLE_DEVICES after program start. Setting the available devices to be zero. (Triggered internally at ../c10/cuda/CUDAFunctions.cpp:108.)\n",
      "  return torch._C._cuda_getDeviceCount() > 0\n"
     ]
    }
   ],
   "source": [
    "from torchvision import models  \n",
    "import torch\n",
    "\n",
    "# Load a pre-trained ResNet model\n",
    "resnet =  models.resnet18(weights=models.ResNet18_Weights.DEFAULT)\n",
    "resnet = torch.nn.Sequential(*list(resnet.children())[:-1])  # Remove the last layer\n",
    "resnet.eval()  # Set to evaluation mode\n",
    "\n",
    "# Move model to GPU if available\n",
    "device = torch.device(\"cuda\" if torch.cuda.is_available() else \"cpu\")\n",
    "resnet = resnet.to(device)\n",
    "\n",
    "transform = transforms.Compose([\n",
    "    transforms.Resize((224, 224)),  # Resize images to 224x224 (ResNet input size)\n",
    "    transforms.Normalize(mean=[0.485, 0.456, 0.406], std=[0.229, 0.224, 0.225])  # ImageNet normalization\n",
    "])\n"
   ]
  },
  {
   "cell_type": "code",
   "execution_count": null,
   "metadata": {},
   "outputs": [
    {
     "name": "stderr",
     "output_type": "stream",
     "text": [
      "/tmp/ipykernel_148194/3953904424.py:13: FutureWarning: You are using `torch.load` with `weights_only=False` (the current default value), which uses the default pickle module implicitly. It is possible to construct malicious pickle data which will execute arbitrary code during unpickling (See https://github.com/pytorch/pytorch/blob/main/SECURITY.md#untrusted-models for more details). In a future release, the default value for `weights_only` will be flipped to `True`. This limits the functions that could be executed during unpickling. Arbitrary objects will no longer be allowed to be loaded via this mode unless they are explicitly allowlisted by the user via `torch.serialization.add_safe_globals`. We recommend you start setting `weights_only=True` for any use case where you don't have full control of the loaded file. Please open an issue on GitHub for any issues related to this experimental feature.\n",
      "  domains[j]['features']  = torch.load(f'stuff/normalized_train_embeds_{j+1}.pt', map_location = device)\n"
     ]
    }
   ],
   "source": [
    "domains = [{} for _ in range(10)]\n",
    "\n",
    "for j in range(10):\n",
    "    \n",
    "    train_path = os.path.join(train_dir, f'{j+1}_train_data.tar.pth')\n",
    "    t = torch.load(train_path, weights_only = False)\n",
    "\n",
    "    data = t['data'] # both numpy.ndarray\n",
    "    \n",
    "    domains[j]['labels'] = t['targets'] if 'targets' in t else None\n",
    "    \n",
    "    try:\n",
    "        domains[j]['features']  = torch.load(f'stuff/normalized_train_embeds_{j+1}.pt', map_location = device)\n",
    "    except: \n",
    "        embeds = []\n",
    "        # Convert to PyTorch tensor\n",
    "        X_tensor = torch.tensor(data, dtype=torch.float32)  # Convert to tensor\n",
    "        X_tensor = X_tensor.permute(0, 3, 1, 2)  # Change shape to (2500, 3, 32, 32)\n",
    "\n",
    "        tensor = X_tensor.float()\n",
    "\n",
    "        transformed_images = []\n",
    "        for image in tensor:\n",
    "            # Convert each image tensor (C, H, W) to PIL Image for transformation\n",
    "            transformed_image = transform(image)  # Apply the transformations\n",
    "            transformed_images.append(transformed_image)\n",
    "\n",
    "        preprocessed_tensor = torch.stack(transformed_images)  # Shape: (2500, 3, 224, 224)\n",
    "\n",
    "        for i in range(10) : \n",
    "            \n",
    "            preprocessed_batch = preprocessed_tensor[i*250:(i+1)*250]\n",
    "            preprocessed_batch = preprocessed_batch.to(device)\n",
    "\n",
    "            # 4. Get the embeddings (feature maps)\n",
    "            with torch.no_grad():  # Disable gradients for inference\n",
    "                feature_maps = resnet(preprocessed_batch)  # Shape will be (batch_size, 512, 1, 1)\n",
    "\n",
    "            # 5. Flatten the feature maps (optional)\n",
    "            embeddings = feature_maps.view(feature_maps.size(0), -1)  # Flatten to shape (batch_size, embedding_size)\n",
    "\n",
    "            embeds.append(embeddings)\n",
    "        \n",
    "        embeds = torch.vstack(embeds)\n",
    "        domains[j]['features'] = embeds\n",
    "        \n",
    "        torch.save(embeds, f'stuff/train_embeds_{j+1}.pt')"
   ]
  },
  {
   "cell_type": "code",
   "execution_count": 6,
   "metadata": {},
   "outputs": [],
   "source": [
    "import numpy as np\n",
    "from sklearn.metrics.pairwise import euclidean_distances\n",
    "\n",
    "class LWP:\n",
    "    def __init__(self):\n",
    "        self.prototypes = {}\n",
    "        self.class_counts = {i:0 for i in range(10)}\n",
    "    \n",
    "    def fit(self, features, labels):\n",
    "        unique_labels = np.unique(labels)\n",
    "        \n",
    "        for label in unique_labels:\n",
    "            \n",
    "            samples = features[labels == label]\n",
    "            num_samples = len(samples)\n",
    "            \n",
    "            if label not in self.prototypes:\n",
    "                self.prototypes[label] = samples.mean(axis=0)\n",
    "                self.class_counts[label] = len(samples)\n",
    "            else:\n",
    "                self.class_counts[label] += len(samples)\n",
    "                self.prototypes[label] = (self.class_counts[label] - num_samples) / self.class_counts[label] * self.prototypes[label] + num_samples/ self.class_counts[label] * samples.mean(axis=0)\n",
    "                \n",
    "            \n",
    "    def predict(self, features):\n",
    "        preds = []\n",
    "        for feature in features:\n",
    "            distances = {label: np.linalg.norm(feature - proto) for label, proto in self.prototypes.items()}\n",
    "            preds.append(min(distances, key=distances.get))\n",
    "        return np.array(preds)"
   ]
  },
  {
   "cell_type": "markdown",
   "metadata": {},
   "source": [
    "## Get Eval Data\n",
    "Evaluating on trainset for now"
   ]
  },
  {
   "cell_type": "code",
   "execution_count": 8,
   "metadata": {},
   "outputs": [
    {
     "name": "stderr",
     "output_type": "stream",
     "text": [
      "/tmp/ipykernel_148194/3501278927.py:13: FutureWarning: You are using `torch.load` with `weights_only=False` (the current default value), which uses the default pickle module implicitly. It is possible to construct malicious pickle data which will execute arbitrary code during unpickling (See https://github.com/pytorch/pytorch/blob/main/SECURITY.md#untrusted-models for more details). In a future release, the default value for `weights_only` will be flipped to `True`. This limits the functions that could be executed during unpickling. Arbitrary objects will no longer be allowed to be loaded via this mode unless they are explicitly allowlisted by the user via `torch.serialization.add_safe_globals`. We recommend you start setting `weights_only=True` for any use case where you don't have full control of the loaded file. Please open an issue on GitHub for any issues related to this experimental feature.\n",
      "  eval_domains[j]['features']  = torch.load(f'stuff/normalized_eval_embeds_{j+1}.pt', map_location = device)\n"
     ]
    }
   ],
   "source": [
    "eval_domains = [{} for _ in range(10)]\n",
    "\n",
    "for j in range(10):\n",
    "    \n",
    "    eval_path = os.path.join(eval_dir, f'{j+1}_eval_data.tar.pth')\n",
    "    t = torch.load(eval_path, weights_only = False)\n",
    "\n",
    "    data = t['data'] # both numpy.ndarray\n",
    "    \n",
    "    eval_domains[j]['labels'] = t['targets'] if 'targets' in t else None\n",
    "    \n",
    "    try:\n",
    "        eval_domains[j]['features']  = torch.load(f'stuff/normalized_eval_embeds_{j+1}.pt', map_location = device)\n",
    "    except: \n",
    "        embeds = []\n",
    "        # Convert to PyTorch tensor\n",
    "        X_tensor = torch.tensor(data, dtype=torch.float32)  # Convert to tensor\n",
    "        X_tensor = X_tensor.permute(0, 3, 1, 2)  # Change shape to (2500, 3, 32, 32)\n",
    "\n",
    "        tensor = X_tensor.float()\n",
    "\n",
    "        transformed_images = []\n",
    "        for image in tensor:\n",
    "            # Convert each image tensor (C, H, W) to PIL Image for transformation\n",
    "            transformed_image = transform(image)  # Apply the transformations\n",
    "            transformed_images.append(transformed_image)\n",
    "\n",
    "        preprocessed_tensor = torch.stack(transformed_images)  # Shape: (2500, 3, 224, 224)\n",
    "\n",
    "        for i in range(10) : \n",
    "            \n",
    "            preprocessed_batch = preprocessed_tensor[i*250:(i+1)*250]\n",
    "            preprocessed_batch = preprocessed_batch.to(device)\n",
    "\n",
    "            # 4. Get the embeddings (feature maps)\n",
    "            with torch.no_grad():  # Disable gradients for inference\n",
    "                feature_maps = resnet(preprocessed_batch)  # Shape will be (batch_size, 512, 1, 1)\n",
    "\n",
    "            # 5. Flatten the feature maps (optional)\n",
    "            embeddings = feature_maps.view(feature_maps.size(0), -1)  # Flatten to shape (batch_size, embedding_size)\n",
    "\n",
    "            embeds.append(embeddings)\n",
    "        \n",
    "        embeds = torch.vstack(embeds)\n",
    "        eval_domains[j]['features'] = embeds\n",
    "        \n",
    "        torch.save(embeds, f'stuff/eval_embeds_{j+1}.pt')"
   ]
  },
  {
   "cell_type": "code",
   "execution_count": 16,
   "metadata": {},
   "outputs": [
    {
     "name": "stdout",
     "output_type": "stream",
     "text": [
      "{0: 253, 1: 243, 2: 255, 3: 244, 4: 262, 5: 236, 6: 250, 7: 253, 8: 254, 9: 250}\n",
      "{0: 422, 1: 522, 2: 559, 3: 278, 4: 651, 5: 317, 6: 600, 7: 438, 8: 509, 9: 704}\n",
      "{0: 585, 1: 801, 2: 858, 3: 388, 4: 1044, 5: 409, 6: 943, 7: 638, 8: 758, 9: 1076}\n",
      "{0: 722, 1: 1090, 2: 1141, 3: 564, 4: 1371, 5: 567, 6: 1264, 7: 823, 8: 987, 9: 1471}\n",
      "{0: 858, 1: 1360, 2: 1421, 3: 815, 4: 1690, 5: 717, 6: 1579, 7: 997, 8: 1215, 9: 1848}\n",
      "{0: 1019, 1: 1629, 2: 1683, 3: 1119, 4: 2023, 5: 879, 6: 1857, 7: 1187, 8: 1445, 9: 2159}\n",
      "{0: 1167, 1: 1894, 2: 1946, 3: 1398, 4: 2355, 5: 1040, 6: 2154, 7: 1367, 8: 1701, 9: 2478}\n",
      "{0: 1303, 1: 2140, 2: 2210, 3: 1720, 4: 2674, 5: 1227, 6: 2464, 7: 1508, 8: 1917, 9: 2837}\n",
      "{0: 1420, 1: 2385, 2: 2500, 3: 2072, 4: 3024, 5: 1394, 6: 2737, 7: 1684, 8: 2137, 9: 3147}\n",
      "{0: 1575, 1: 2609, 2: 2801, 3: 2373, 4: 3355, 5: 1575, 6: 3029, 7: 1851, 8: 2361, 9: 3471}\n"
     ]
    }
   ],
   "source": [
    "from sklearn.metrics import accuracy_score\n",
    "import pandas as pd\n",
    "\n",
    "model = LWP()\n",
    "\n",
    "df = pd.DataFrame()\n",
    "\n",
    "for idx,domain in enumerate(domains):\n",
    "    \n",
    "    x_test = domain['features']\n",
    "    y_pred = model.predict(x_test) if domain['labels'] is None else domain['labels']\n",
    "    \n",
    "    model.fit(x_test, y_pred)\n",
    "    print(model.class_counts)\n",
    "    \n",
    "    scores = []\n",
    "    for eval_domain in eval_domains[:idx+1]:\n",
    "        \n",
    "        features = eval_domain['features']\n",
    "        labels = eval_domain['labels']\n",
    "        \n",
    "        preds = model.predict(features)\n",
    "        acc = accuracy_score(labels, preds)\n",
    "        \n",
    "        scores.append(acc)\n",
    "    \n",
    "    df[f'Domain {idx+1}'] = scores + [np.nan] * (len(eval_domains) - len(scores))"
   ]
  },
  {
   "cell_type": "code",
   "execution_count": 17,
   "metadata": {},
   "outputs": [
    {
     "name": "stdout",
     "output_type": "stream",
     "text": [
      "   Domain 1  Domain 2  Domain 3  Domain 4  Domain 5  Domain 6  Domain 7  \\\n",
      "0     0.266    0.2440    0.2344    0.2292    0.2276    0.2244    0.2208   \n",
      "1       NaN    0.2424    0.2352    0.2292    0.2252    0.2232    0.2216   \n",
      "2       NaN       NaN    0.2360    0.2344    0.2332    0.2328    0.2328   \n",
      "3       NaN       NaN       NaN    0.2504    0.2440    0.2440    0.2380   \n",
      "4       NaN       NaN       NaN       NaN    0.2404    0.2388    0.2372   \n",
      "5       NaN       NaN       NaN       NaN       NaN    0.2236    0.2216   \n",
      "6       NaN       NaN       NaN       NaN       NaN       NaN    0.2264   \n",
      "7       NaN       NaN       NaN       NaN       NaN       NaN       NaN   \n",
      "8       NaN       NaN       NaN       NaN       NaN       NaN       NaN   \n",
      "9       NaN       NaN       NaN       NaN       NaN       NaN       NaN   \n",
      "\n",
      "   Domain 8  Domain 9  Domain 10  \n",
      "0    0.2184    0.2176     0.2192  \n",
      "1    0.2176    0.2140     0.2136  \n",
      "2    0.2316    0.2296     0.2292  \n",
      "3    0.2360    0.2332     0.2324  \n",
      "4    0.2368    0.2364     0.2356  \n",
      "5    0.2192    0.2192     0.2164  \n",
      "6    0.2240    0.2244     0.2232  \n",
      "7    0.2212    0.2200     0.2204  \n",
      "8       NaN    0.2168     0.2148  \n",
      "9       NaN       NaN     0.2332  \n"
     ]
    }
   ],
   "source": [
    "print(df)"
   ]
  },
  {
   "cell_type": "code",
   "execution_count": null,
   "metadata": {},
   "outputs": [],
   "source": []
  }
 ],
 "metadata": {
  "kernelspec": {
   "display_name": "771",
   "language": "python",
   "name": "python3"
  },
  "language_info": {
   "codemirror_mode": {
    "name": "ipython",
    "version": 3
   },
   "file_extension": ".py",
   "mimetype": "text/x-python",
   "name": "python",
   "nbconvert_exporter": "python",
   "pygments_lexer": "ipython3",
   "version": "3.12.5"
  }
 },
 "nbformat": 4,
 "nbformat_minor": 2
}
