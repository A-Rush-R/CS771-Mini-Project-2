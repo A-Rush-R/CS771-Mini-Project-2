{
 "cells": [
  {
   "cell_type": "code",
   "execution_count": 1,
   "metadata": {},
   "outputs": [],
   "source": [
    "import torch\n",
    "import os\n",
    "from torchvision import transforms"
   ]
  },
  {
   "cell_type": "code",
   "execution_count": 2,
   "metadata": {},
   "outputs": [],
   "source": [
    "train_dir = os.path.join('dataset', 'part_one_dataset', 'train_data')\n",
    "eval_dir = os.path.join('dataset', 'part_one_dataset', 'eval_data')\n",
    "save_dir = os.path.join('vit_embeds')"
   ]
  },
  {
   "cell_type": "code",
   "execution_count": 3,
   "metadata": {},
   "outputs": [
    {
     "name": "stderr",
     "output_type": "stream",
     "text": [
      "/tmp/ipykernel_223571/1130122073.py:9: FutureWarning: You are using `torch.load` with `weights_only=False` (the current default value), which uses the default pickle module implicitly. It is possible to construct malicious pickle data which will execute arbitrary code during unpickling (See https://github.com/pytorch/pytorch/blob/main/SECURITY.md#untrusted-models for more details). In a future release, the default value for `weights_only` will be flipped to `True`. This limits the functions that could be executed during unpickling. Arbitrary objects will no longer be allowed to be loaded via this mode unless they are explicitly allowlisted by the user via `torch.serialization.add_safe_globals`. We recommend you start setting `weights_only=True` for any use case where you don't have full control of the loaded file. Please open an issue on GitHub for any issues related to this experimental feature.\n",
      "  domains[j]['features'] = torch.load(os.path.join(save_dir,f'train_embeds_{j+1}.pt'))\n"
     ]
    }
   ],
   "source": [
    "domains = [{} for _ in range(10)]\n",
    "\n",
    "for j in range(10):\n",
    "    \n",
    "    train_path = os.path.join(train_dir, f'{j+1}_train_data.tar.pth')\n",
    "    t = torch.load(train_path, weights_only = False)\n",
    "    \n",
    "    domains[j]['labels'] = t['targets'] if 'targets' in t else None\n",
    "    domains[j]['features'] = torch.load(os.path.join(save_dir,f'train_embeds_{j+1}.pt'))"
   ]
  },
  {
   "cell_type": "code",
   "execution_count": 4,
   "metadata": {},
   "outputs": [],
   "source": [
    "import numpy as np\n",
    "from sklearn.metrics.pairwise import cosine_distances, manhattan_distances\n",
    "\n",
    "class LWP:\n",
    "    \"\"\"Learning Vector Prototypes with configurable distance function\"\"\"\n",
    "    \n",
    "    DISTANCE_FUNCTIONS = {\n",
    "        'euclidean': lambda x, y: np.linalg.norm(x - y),\n",
    "        'cosine': lambda x, y: cosine_distances(x.reshape(1, -1), y.reshape(1, -1))[0][0],\n",
    "        'manhattan': lambda x, y: manhattan_distances(x.reshape(1, -1), y.reshape(1, -1))[0][0],\n",
    "        'minkowski': lambda x, y, p=2: np.power(np.sum(np.power(np.abs(x - y), p)), 1/p)\n",
    "    }\n",
    "    \n",
    "    def __init__(self, distance_metric='euclidean', **distance_params):\n",
    "        \"\"\"\n",
    "            distance_params (dict): Additional parameters for the distance function\n",
    "        \"\"\"\n",
    "        self.prototypes = {}\n",
    "        self.class_counts = {i: 0 for i in range(10)}\n",
    "        \n",
    "        if callable(distance_metric):\n",
    "            self.distance_fn = distance_metric\n",
    "        elif distance_metric in self.DISTANCE_FUNCTIONS:\n",
    "            if distance_metric == 'minkowski':\n",
    "                p = distance_params.get('p', 2)\n",
    "                self.distance_fn = lambda x, y: self.DISTANCE_FUNCTIONS[distance_metric](x, y, p)\n",
    "            else:\n",
    "                self.distance_fn = self.DISTANCE_FUNCTIONS[distance_metric]\n",
    "        else:\n",
    "            raise ValueError(f\"Unknown distance metric: {distance_metric}. \" \n",
    "                           f\"Available metrics: {list(self.DISTANCE_FUNCTIONS.keys())}\")\n",
    "\n",
    "    def fit(self, features, labels):\n",
    "        unique_labels = np.unique(labels)\n",
    "        for label in unique_labels:\n",
    "            samples = features[labels == label]\n",
    "            num_samples = len(samples)\n",
    "            \n",
    "            if label not in self.prototypes:  # Original condition was: if label not in self.prototypes\n",
    "                self.prototypes[label] = samples.mean(axis=0)\n",
    "                self.class_counts[label] = len(samples)\n",
    "            else:\n",
    "                self.class_counts[label] += len(samples)\n",
    "                self.prototypes[label] = (\n",
    "                    (self.class_counts[label] - num_samples) / self.class_counts[label] * self.prototypes[label] +\n",
    "                    num_samples / self.class_counts[label] * samples.mean(axis=0)\n",
    "                )\n",
    "\n",
    "    def predict(self, features):\n",
    "        preds = []\n",
    "        for feature in features:\n",
    "            distances = {\n",
    "                label: self.distance_fn(feature, proto)\n",
    "                for label, proto in self.prototypes.items()\n",
    "            }\n",
    "            preds.append(min(distances, key=distances.get))\n",
    "        return np.array(preds)"
   ]
  },
  {
   "cell_type": "markdown",
   "metadata": {},
   "source": [
    "## Get Eval Data\n",
    "Evaluating on trainset for now"
   ]
  },
  {
   "cell_type": "code",
   "execution_count": 5,
   "metadata": {},
   "outputs": [
    {
     "name": "stderr",
     "output_type": "stream",
     "text": [
      "/tmp/ipykernel_223571/3214602843.py:11: FutureWarning: You are using `torch.load` with `weights_only=False` (the current default value), which uses the default pickle module implicitly. It is possible to construct malicious pickle data which will execute arbitrary code during unpickling (See https://github.com/pytorch/pytorch/blob/main/SECURITY.md#untrusted-models for more details). In a future release, the default value for `weights_only` will be flipped to `True`. This limits the functions that could be executed during unpickling. Arbitrary objects will no longer be allowed to be loaded via this mode unless they are explicitly allowlisted by the user via `torch.serialization.add_safe_globals`. We recommend you start setting `weights_only=True` for any use case where you don't have full control of the loaded file. Please open an issue on GitHub for any issues related to this experimental feature.\n",
      "  eval_domains[j]['features'] = torch.load(os.path.join(save_dir,f'eval_embeds_{j+1}.pt'))\n"
     ]
    }
   ],
   "source": [
    "eval_domains = [{} for _ in range(10)]\n",
    "\n",
    "for j in range(10):\n",
    "    \n",
    "    eval_path = os.path.join(eval_dir, f'{j+1}_eval_data.tar.pth')\n",
    "    t = torch.load(eval_path, weights_only = False)\n",
    "\n",
    "    data = t['data'] # both numpy.ndarray\n",
    "    \n",
    "    eval_domains[j]['labels'] = t['targets'] if 'targets' in t else None\n",
    "    eval_domains[j]['features'] = torch.load(os.path.join(save_dir,f'eval_embeds_{j+1}.pt'))"
   ]
  },
  {
   "cell_type": "code",
   "execution_count": null,
   "metadata": {},
   "outputs": [
    {
     "name": "stdout",
     "output_type": "stream",
     "text": [
      "{0: 253, 1: 243, 2: 255, 3: 244, 4: 262, 5: 236, 6: 250, 7: 253, 8: 254, 9: 250}\n",
      "{0: 487, 1: 511, 2: 475, 3: 519, 4: 513, 5: 491, 6: 503, 7: 508, 8: 493, 9: 500}\n",
      "{0: 752, 1: 758, 2: 679, 3: 774, 4: 790, 5: 771, 6: 761, 7: 727, 8: 749, 9: 739}\n",
      "{0: 1004, 1: 1025, 2: 877, 3: 1039, 4: 1060, 5: 1031, 6: 1012, 7: 951, 8: 989, 9: 1012}\n",
      "{0: 1255, 1: 1298, 2: 1078, 3: 1287, 4: 1329, 5: 1309, 6: 1252, 7: 1181, 8: 1228, 9: 1283}\n"
     ]
    }
   ],
   "source": [
    "from sklearn.metrics import accuracy_score\n",
    "import pandas as pd\n",
    "\n",
    "model = LWP(distance_metric='cosine')\n",
    "\n",
    "df = pd.DataFrame()\n",
    "\n",
    "for idx,domain in enumerate(domains):\n",
    "    \n",
    "    x_test = domain['features']\n",
    "    y_pred = model.predict(x_test) if domain['labels'] is None else domain['labels']\n",
    "    \n",
    "    model.fit(x_test, y_pred)\n",
    "    print(model.class_counts)\n",
    "    \n",
    "    scores = []\n",
    "    for eval_domain in eval_domains[:idx+1]:\n",
    "        \n",
    "        features = eval_domain['features']\n",
    "        labels = eval_domain['labels']\n",
    "        \n",
    "        preds = model.predict(features)\n",
    "        acc = accuracy_score(labels, preds)\n",
    "        \n",
    "        scores.append(acc)\n",
    "    \n",
    "    df[f'Domain {idx+1}'] = scores + [np.nan] * (len(eval_domains) - len(scores))"
   ]
  },
  {
   "cell_type": "code",
   "execution_count": null,
   "metadata": {},
   "outputs": [
    {
     "name": "stdout",
     "output_type": "stream",
     "text": [
      "   Domain 1  Domain 2  Domain 3  Domain 4  Domain 5  Domain 6  Domain 7  \\\n",
      "0    0.2684    0.2436    0.2360    0.2232    0.2120    0.2032    0.2032   \n",
      "1       NaN    0.2404    0.2252    0.2172    0.2156    0.2052    0.1992   \n",
      "2       NaN       NaN    0.2340    0.2276    0.2180    0.2108    0.2100   \n",
      "3       NaN       NaN       NaN    0.2304    0.2224    0.2212    0.2212   \n",
      "4       NaN       NaN       NaN       NaN    0.2232    0.2212    0.2212   \n",
      "5       NaN       NaN       NaN       NaN       NaN    0.1988    0.1964   \n",
      "6       NaN       NaN       NaN       NaN       NaN       NaN    0.2120   \n",
      "7       NaN       NaN       NaN       NaN       NaN       NaN       NaN   \n",
      "8       NaN       NaN       NaN       NaN       NaN       NaN       NaN   \n",
      "9       NaN       NaN       NaN       NaN       NaN       NaN       NaN   \n",
      "\n",
      "   Domain 8  Domain 9  Domain 10  \n",
      "0    0.2012    0.1976     0.1988  \n",
      "1    0.1948    0.1956     0.1932  \n",
      "2    0.2020    0.1968     0.1932  \n",
      "3    0.2152    0.2132     0.2056  \n",
      "4    0.2136    0.2120     0.2100  \n",
      "5    0.1936    0.1936     0.1944  \n",
      "6    0.2080    0.2040     0.1992  \n",
      "7    0.1964    0.2016     0.1964  \n",
      "8       NaN    0.1980     0.1952  \n",
      "9       NaN       NaN     0.2092  \n"
     ]
    }
   ],
   "source": [
    "print(df)"
   ]
  }
 ],
 "metadata": {
  "kernelspec": {
   "display_name": "771",
   "language": "python",
   "name": "python3"
  },
  "language_info": {
   "codemirror_mode": {
    "name": "ipython",
    "version": 3
   },
   "file_extension": ".py",
   "mimetype": "text/x-python",
   "name": "python",
   "nbconvert_exporter": "python",
   "pygments_lexer": "ipython3",
   "version": "3.12.5"
  }
 },
 "nbformat": 4,
 "nbformat_minor": 2
}
