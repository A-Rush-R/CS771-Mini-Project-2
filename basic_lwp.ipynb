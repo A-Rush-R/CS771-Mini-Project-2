{
 "cells": [
  {
   "cell_type": "code",
   "execution_count": 1,
   "metadata": {},
   "outputs": [],
   "source": [
    "import torch\n",
    "import os\n",
    "from torchvision import transforms"
   ]
  },
  {
   "cell_type": "code",
   "execution_count": 2,
   "metadata": {},
   "outputs": [],
   "source": [
    "train_dir = os.path.join('dataset', 'part_one_dataset', 'train_data')\n",
    "eval_dir = os.path.join('dataset', 'part_one_dataset', 'eval_data')\n",
    "save_dir = os.path.join('vit_embeds')"
   ]
  },
  {
   "cell_type": "code",
   "execution_count": 3,
   "metadata": {},
   "outputs": [
    {
     "name": "stderr",
     "output_type": "stream",
     "text": [
      "/tmp/ipykernel_223571/1130122073.py:9: FutureWarning: You are using `torch.load` with `weights_only=False` (the current default value), which uses the default pickle module implicitly. It is possible to construct malicious pickle data which will execute arbitrary code during unpickling (See https://github.com/pytorch/pytorch/blob/main/SECURITY.md#untrusted-models for more details). In a future release, the default value for `weights_only` will be flipped to `True`. This limits the functions that could be executed during unpickling. Arbitrary objects will no longer be allowed to be loaded via this mode unless they are explicitly allowlisted by the user via `torch.serialization.add_safe_globals`. We recommend you start setting `weights_only=True` for any use case where you don't have full control of the loaded file. Please open an issue on GitHub for any issues related to this experimental feature.\n",
      "  domains[j]['features'] = torch.load(os.path.join(save_dir,f'train_embeds_{j+1}.pt'))\n"
     ]
    }
   ],
   "source": [
    "domains = [{} for _ in range(10)]\n",
    "\n",
    "for j in range(10):\n",
    "    \n",
    "    train_path = os.path.join(train_dir, f'{j+1}_train_data.tar.pth')\n",
    "    t = torch.load(train_path, weights_only = False)\n",
    "    \n",
    "    domains[j]['labels'] = t['targets'] if 'targets' in t else None\n",
    "    domains[j]['features'] = torch.load(os.path.join(save_dir,f'train_embeds_{j+1}.pt'))"
   ]
  },
  {
   "cell_type": "code",
   "execution_count": 4,
   "metadata": {},
   "outputs": [],
   "source": [
    "import numpy as np\n",
    "from sklearn.metrics.pairwise import cosine_distances, manhattan_distances\n",
    "\n",
    "class LWP:\n",
    "    \"\"\"Learning Vector Prototypes with configurable distance function\"\"\"\n",
    "    \n",
    "    DISTANCE_FUNCTIONS = {\n",
    "        'euclidean': lambda x, y: np.linalg.norm(x - y),\n",
    "        'cosine': lambda x, y: cosine_distances(x.reshape(1, -1), y.reshape(1, -1))[0][0],\n",
    "        'manhattan': lambda x, y: manhattan_distances(x.reshape(1, -1), y.reshape(1, -1))[0][0],\n",
    "        'minkowski': lambda x, y, p=2: np.power(np.sum(np.power(np.abs(x - y), p)), 1/p)\n",
    "    }\n",
    "    \n",
    "    def __init__(self, distance_metric='euclidean', **distance_params):\n",
    "        \"\"\"\n",
    "            distance_params (dict): Additional parameters for the distance function\n",
    "        \"\"\"\n",
    "        self.prototypes = {}\n",
    "        self.class_counts = {i: 0 for i in range(10)}\n",
    "        \n",
    "        if callable(distance_metric):\n",
    "            self.distance_fn = distance_metric\n",
    "        elif distance_metric in self.DISTANCE_FUNCTIONS:\n",
    "            if distance_metric == 'minkowski':\n",
    "                p = distance_params.get('p', 2)\n",
    "                self.distance_fn = lambda x, y: self.DISTANCE_FUNCTIONS[distance_metric](x, y, p)\n",
    "            else:\n",
    "                self.distance_fn = self.DISTANCE_FUNCTIONS[distance_metric]\n",
    "        else:\n",
    "            raise ValueError(f\"Unknown distance metric: {distance_metric}. \" \n",
    "                           f\"Available metrics: {list(self.DISTANCE_FUNCTIONS.keys())}\")\n",
    "\n",
    "    def fit(self, features, labels):\n",
    "        unique_labels = np.unique(labels)\n",
    "        for label in unique_labels:\n",
    "            samples = features[labels == label]\n",
    "            num_samples = len(samples)\n",
    "            \n",
    "            if label not in self.prototypes:  # Original condition was: if label not in self.prototypes\n",
    "                self.prototypes[label] = samples.mean(axis=0)\n",
    "                self.class_counts[label] = len(samples)\n",
    "            else:\n",
    "                self.class_counts[label] += len(samples)\n",
    "                self.prototypes[label] = (\n",
    "                    (self.class_counts[label] - num_samples) / self.class_counts[label] * self.prototypes[label] +\n",
    "                    num_samples / self.class_counts[label] * samples.mean(axis=0)\n",
    "                )\n",
    "\n",
    "    def predict(self, features):\n",
    "        preds = []\n",
    "        for feature in features:\n",
    "            distances = {\n",
    "                label: self.distance_fn(feature, proto)\n",
    "                for label, proto in self.prototypes.items()\n",
    "            }\n",
    "            preds.append(min(distances, key=distances.get))\n",
    "        return np.array(preds)"
   ]
  },
  {
   "cell_type": "markdown",
   "metadata": {},
   "source": [
    "## Get Eval Data\n",
    "Evaluating on trainset for now"
   ]
  },
  {
   "cell_type": "code",
   "execution_count": 5,
   "metadata": {},
   "outputs": [
    {
     "name": "stderr",
     "output_type": "stream",
     "text": [
      "/tmp/ipykernel_223571/3214602843.py:11: FutureWarning: You are using `torch.load` with `weights_only=False` (the current default value), which uses the default pickle module implicitly. It is possible to construct malicious pickle data which will execute arbitrary code during unpickling (See https://github.com/pytorch/pytorch/blob/main/SECURITY.md#untrusted-models for more details). In a future release, the default value for `weights_only` will be flipped to `True`. This limits the functions that could be executed during unpickling. Arbitrary objects will no longer be allowed to be loaded via this mode unless they are explicitly allowlisted by the user via `torch.serialization.add_safe_globals`. We recommend you start setting `weights_only=True` for any use case where you don't have full control of the loaded file. Please open an issue on GitHub for any issues related to this experimental feature.\n",
      "  eval_domains[j]['features'] = torch.load(os.path.join(save_dir,f'eval_embeds_{j+1}.pt'))\n"
     ]
    }
   ],
   "source": [
    "eval_domains = [{} for _ in range(10)]\n",
    "\n",
    "for j in range(10):\n",
    "    \n",
    "    eval_path = os.path.join(eval_dir, f'{j+1}_eval_data.tar.pth')\n",
    "    t = torch.load(eval_path, weights_only = False)\n",
    "\n",
    "    data = t['data'] # both numpy.ndarray\n",
    "    \n",
    "    eval_domains[j]['labels'] = t['targets'] if 'targets' in t else None\n",
    "    eval_domains[j]['features'] = torch.load(os.path.join(save_dir,f'eval_embeds_{j+1}.pt'))"
   ]
  },
  {
   "cell_type": "code",
   "execution_count": 6,
   "metadata": {},
   "outputs": [
    {
     "name": "stdout",
     "output_type": "stream",
     "text": [
      "{0: 253, 1: 243, 2: 255, 3: 244, 4: 262, 5: 236, 6: 250, 7: 253, 8: 254, 9: 250}\n",
      "{0: 487, 1: 511, 2: 475, 3: 519, 4: 513, 5: 491, 6: 503, 7: 508, 8: 493, 9: 500}\n",
      "{0: 752, 1: 758, 2: 679, 3: 774, 4: 790, 5: 771, 6: 761, 7: 727, 8: 749, 9: 739}\n",
      "{0: 1004, 1: 1025, 2: 877, 3: 1039, 4: 1060, 5: 1031, 6: 1012, 7: 951, 8: 989, 9: 1012}\n",
      "{0: 1255, 1: 1298, 2: 1078, 3: 1287, 4: 1329, 5: 1309, 6: 1252, 7: 1181, 8: 1228, 9: 1283}\n",
      "{0: 1502, 1: 1527, 2: 1298, 3: 1540, 4: 1617, 5: 1609, 6: 1491, 7: 1416, 8: 1459, 9: 1541}\n",
      "{0: 1753, 1: 1769, 2: 1518, 3: 1786, 4: 1903, 5: 1879, 6: 1725, 7: 1638, 8: 1734, 9: 1795}\n",
      "{0: 2011, 1: 2023, 2: 1756, 3: 2040, 4: 2173, 5: 2170, 6: 1957, 7: 1848, 8: 1968, 9: 2054}\n",
      "{0: 2261, 1: 2287, 2: 1949, 3: 2299, 4: 2474, 5: 2424, 6: 2186, 7: 2074, 8: 2223, 9: 2323}\n",
      "{0: 2506, 1: 2526, 2: 2153, 3: 2566, 4: 2753, 5: 2731, 6: 2419, 7: 2292, 8: 2465, 9: 2589}\n"
     ]
    }
   ],
   "source": [
    "from sklearn.metrics import accuracy_score\n",
    "import pandas as pd\n",
    "\n",
    "model = LWP(distance_metric='cosine')\n",
    "\n",
    "df = pd.DataFrame()\n",
    "\n",
    "for idx,domain in enumerate(domains):\n",
    "    \n",
    "    x_test = domain['features']\n",
    "    y_pred = model.predict(x_test) if domain['labels'] is None else domain['labels']\n",
    "    \n",
    "    model.fit(x_test, y_pred)\n",
    "    print(model.class_counts)\n",
    "    \n",
    "    scores = []\n",
    "    for eval_domain in eval_domains[:idx+1]:\n",
    "        \n",
    "        features = eval_domain['features']\n",
    "        labels = eval_domain['labels']\n",
    "        \n",
    "        preds = model.predict(features)\n",
    "        acc = accuracy_score(labels, preds)\n",
    "        \n",
    "        scores.append(acc)\n",
    "    \n",
    "    df[f'Domain {idx+1}'] = scores + [np.nan] * (len(eval_domains) - len(scores))"
   ]
  },
  {
   "cell_type": "code",
   "execution_count": 7,
   "metadata": {},
   "outputs": [
    {
     "name": "stdout",
     "output_type": "stream",
     "text": [
      "   Domain 1  Domain 2  Domain 3  Domain 4  Domain 5  Domain 6  Domain 7  \\\n",
      "0     0.902     0.898     0.894    0.8916    0.8912    0.8908    0.8892   \n",
      "1       NaN     0.900     0.898    0.8976    0.8960    0.8944    0.8936   \n",
      "2       NaN       NaN     0.908    0.9060    0.9052    0.9056    0.9040   \n",
      "3       NaN       NaN       NaN    0.9128    0.9124    0.9128    0.9116   \n",
      "4       NaN       NaN       NaN       NaN    0.9052    0.9044    0.9052   \n",
      "5       NaN       NaN       NaN       NaN       NaN    0.9088    0.9092   \n",
      "6       NaN       NaN       NaN       NaN       NaN       NaN    0.9000   \n",
      "7       NaN       NaN       NaN       NaN       NaN       NaN       NaN   \n",
      "8       NaN       NaN       NaN       NaN       NaN       NaN       NaN   \n",
      "9       NaN       NaN       NaN       NaN       NaN       NaN       NaN   \n",
      "\n",
      "   Domain 8  Domain 9  Domain 10  \n",
      "0    0.8880    0.8888     0.8880  \n",
      "1    0.8932    0.8932     0.8932  \n",
      "2    0.9024    0.9024     0.9032  \n",
      "3    0.9116    0.9108     0.9104  \n",
      "4    0.9036    0.9032     0.9020  \n",
      "5    0.9080    0.9076     0.9088  \n",
      "6    0.9016    0.9012     0.9004  \n",
      "7    0.9008    0.9008     0.9004  \n",
      "8       NaN    0.9008     0.9012  \n",
      "9       NaN       NaN     0.9092  \n"
     ]
    }
   ],
   "source": [
    "print(df)"
   ]
  }
 ],
 "metadata": {
  "kernelspec": {
   "display_name": "771",
   "language": "python",
   "name": "python3"
  },
  "language_info": {
   "codemirror_mode": {
    "name": "ipython",
    "version": 3
   },
   "file_extension": ".py",
   "mimetype": "text/x-python",
   "name": "python",
   "nbconvert_exporter": "python",
   "pygments_lexer": "ipython3",
   "version": "3.12.5"
  }
 },
 "nbformat": 4,
 "nbformat_minor": 2
}
