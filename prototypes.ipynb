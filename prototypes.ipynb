{
 "cells": [
  {
   "cell_type": "code",
   "execution_count": 29,
   "metadata": {},
   "outputs": [],
   "source": [
    "import torch\n",
    "import os\n",
    "import numpy as np\n",
    "from torchvision import datasets, transforms, models\n"
   ]
  },
  {
   "cell_type": "code",
   "execution_count": 30,
   "metadata": {},
   "outputs": [],
   "source": [
    "train_dir = os.path.join('dataset', 'part_one_dataset', 'train_data')\n",
    "eval_dir = os.path.join('dataset', 'part_one_dataset', 'eval_data')\n",
    "train_path = os.path.join(train_dir, '1_train_data.tar.pth')\n",
    "eval_path = os.path.join(eval_dir, '1_eval_data.tar.pth')\n",
    "\n",
    "t = torch.load(train_path, weights_only = False)"
   ]
  },
  {
   "cell_type": "code",
   "execution_count": null,
   "metadata": {},
   "outputs": [],
   "source": []
  },
  {
   "cell_type": "code",
   "execution_count": 31,
   "metadata": {},
   "outputs": [],
   "source": [
    "from torchvision import models\n",
    "import torch\n",
    "\n",
    "# Load a pre-trained ResNet model\n",
    "resnet =  models.resnet18(weights=models.ResNet18_Weights.IMAGENET1K_V1)\n",
    "resnet = torch.nn.Sequential(*list(resnet.children())[:-1])  # Remove the last layer\n",
    "resnet.eval()  # Set to evaluation mode\n",
    "\n",
    "# Move model to GPU if available\n",
    "device = torch.device(\"cuda\" if torch.cuda.is_available() else \"cpu\")\n",
    "resnet = resnet.to(device)"
   ]
  },
  {
   "cell_type": "code",
   "execution_count": 32,
   "metadata": {},
   "outputs": [],
   "source": [
    "features= t['data']"
   ]
  },
  {
   "cell_type": "code",
   "execution_count": 36,
   "metadata": {},
   "outputs": [
    {
     "name": "stdout",
     "output_type": "stream",
     "text": [
      "Original shape of features_np: (2500, 32, 32, 3)\n",
      "Reshaped features shape: (2500, 3072)\n"
     ]
    }
   ],
   "source": [
    "from sklearn.cluster import KMeans\n",
    "\n",
    "# If features is already a NumPy array, skip the conversion\n",
    "if isinstance(features, torch.Tensor):\n",
    "    features_np = features.cpu().numpy() if features.is_cuda else features.numpy()\n",
    "else:\n",
    "    features_np = features  # Assume features is already a NumPy array\n",
    "# Define number of prototypes (clusters)\n",
    "num_prototypes = 5  # Adjust this based on the dataset\n",
    "print(\"Original shape of features_np:\", features_np.shape)\n",
    "features_np_reshaped = features_np.reshape(features_np.shape[0], -1)\n",
    "print(\"Reshaped features shape:\", features_np_reshaped.shape)"
   ]
  },
  {
   "cell_type": "code",
   "execution_count": 37,
   "metadata": {},
   "outputs": [],
   "source": [
    "# Fit k-means with reshaped features\n",
    "kmeans = KMeans(n_clusters=num_prototypes, random_state=42)\n",
    "kmeans.fit(features_np_reshaped)\n",
    "# The cluster centers are your initial prototypes\n",
    "prototypes = kmeans.cluster_centers_"
   ]
  },
  {
   "cell_type": "code",
   "execution_count": 38,
   "metadata": {},
   "outputs": [
    {
     "data": {
      "text/plain": [
       "array([0.41108547, 0.30464587, 0.35339062, 0.70255189, 0.340754  ,\n",
       "       0.33898703, 0.38654109, 0.35468545, 0.30117097, 0.31768781])"
      ]
     },
     "execution_count": 38,
     "metadata": {},
     "output_type": "execute_result"
    }
   ],
   "source": [
    "# Calculate distances of each point to its cluster center\n",
    "distances = np.linalg.norm(features_np_reshaped - kmeans.cluster_centers_[kmeans.labels_], axis=1)\n",
    "\n",
    "# Convert distances to weights (closer points have higher weights)\n",
    "# Normalize weights by inverting distances and scaling to a max of 1\n",
    "weights = 1 / (distances + 1e-8)  # Add a small constant to avoid division by zero\n",
    "weights /= weights.max()  # Normalize to [0, 1]\n",
    "\n",
    "# Output sample weights for inspection\n",
    "weights[:10]  # Display the first 10 weights"
   ]
  },
  {
   "cell_type": "code",
   "execution_count": null,
   "metadata": {},
   "outputs": [],
   "source": []
  }
 ],
 "metadata": {
  "kernelspec": {
   "display_name": "Python 3",
   "language": "python",
   "name": "python3"
  },
  "language_info": {
   "codemirror_mode": {
    "name": "ipython",
    "version": 3
   },
   "file_extension": ".py",
   "mimetype": "text/x-python",
   "name": "python",
   "nbconvert_exporter": "python",
   "pygments_lexer": "ipython3",
   "version": "3.10.11"
  }
 },
 "nbformat": 4,
 "nbformat_minor": 2
}
