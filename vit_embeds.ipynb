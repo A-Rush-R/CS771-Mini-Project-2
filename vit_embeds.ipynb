{
 "cells": [
  {
   "cell_type": "code",
   "execution_count": 1,
   "metadata": {},
   "outputs": [],
   "source": [
    "import torch\n",
    "import os"
   ]
  },
  {
   "cell_type": "code",
   "execution_count": 2,
   "metadata": {},
   "outputs": [
    {
     "name": "stderr",
     "output_type": "stream",
     "text": [
      "/home/arush-upadhyaya/anaconda3/envs/771/lib/python3.12/site-packages/torch/cuda/__init__.py:129: UserWarning: CUDA initialization: CUDA unknown error - this may be due to an incorrectly set up environment, e.g. changing env variable CUDA_VISIBLE_DEVICES after program start. Setting the available devices to be zero. (Triggered internally at ../c10/cuda/CUDAFunctions.cpp:108.)\n",
      "  return torch._C._cuda_getDeviceCount() > 0\n"
     ]
    }
   ],
   "source": [
    "train_dir = os.path.join('dataset', 'part_two_dataset', 'train_data')\n",
    "eval_dir = os.path.join('dataset', 'part_two_dataset', 'eval_data')\n",
    "save_dir = os.path.join('part_2_vit_embeds')\n",
    "if not os.path.exists(save_dir):\n",
    "    os.makedirs(save_dir)\n",
    "\n",
    "device = torch.device('cuda' if torch.cuda.is_available() else 'cpu')"
   ]
  },
  {
   "cell_type": "code",
   "execution_count": 3,
   "metadata": {},
   "outputs": [],
   "source": [
    "import torch\n",
    "from torchvision import transforms, models\n",
    "import numpy as np\n",
    "\n",
    "def get_vit_embeddings(data_dict, batch_size=64):\n",
    "    # Initialize ViT\n",
    "    model = models.vit_b_16(weights=models.ViT_B_16_Weights.DEFAULT)\n",
    "    model.heads = torch.nn.Identity()\n",
    "    device = torch.device(\"cuda\" if torch.cuda.is_available() else \"cpu\")\n",
    "    model = model.to(device)\n",
    "    model.eval()\n",
    "    \n",
    "    # Setup transform\n",
    "    transform = transforms.Compose([\n",
    "        # transforms.ToPILImage(),      # Converts numpy array to PIL image (required by torchvision transforms) HAVE TO TRY THIS\n",
    "        transforms.ToTensor(),\n",
    "        transforms.Resize((224, 224)),\n",
    "        transforms.Normalize(mean=[0.485, 0.456, 0.406], \n",
    "                           std=[0.229, 0.224, 0.225])\n",
    "    ])\n",
    "    # transform = transforms.Compose([\n",
    "    #     transforms.ToPILImage(),      # Converts numpy array to PIL image (required by torchvision transforms) HAVE TO TRY THIS\n",
    "    #     transforms.Resize((224, 224)),\n",
    "    #     transforms.ToTensor(),\n",
    "    #     transforms.Normalize(mean=[0.485, 0.456, 0.406], \n",
    "    #                        std=[0.229, 0.224, 0.225])\n",
    "    # ])\n",
    "    \n",
    "    # Get data and labels\n",
    "    images = data_dict['data']  # Assuming shape (N, H, W, C)\n",
    "    embeddings = []\n",
    "    \n",
    "    with torch.no_grad():\n",
    "        # Process in batches\n",
    "        for i in range(0, len(images), batch_size):\n",
    "            batch_images = images[i:i + batch_size]\n",
    "            \n",
    "            batch_tensor = torch.stack([\n",
    "                transform(img.astype(np.uint8)) for img in batch_images\n",
    "            ])\n",
    "            \n",
    "            # Extract features\n",
    "            batch_tensor = batch_tensor.to(device)\n",
    "            batch_embeddings = model(batch_tensor)\n",
    "            embeddings.append(batch_embeddings.cpu().numpy())\n",
    "            \n",
    "            # Optional: Print progress\n",
    "            if (i + batch_size) % 1000 == 0:\n",
    "                print(f\"Processed {i + batch_size}/{len(images)} images\")\n",
    "    \n",
    "    embeddings = np.vstack(embeddings)\n",
    "    \n",
    "    return embeddings"
   ]
  },
  {
   "cell_type": "code",
   "execution_count": 4,
   "metadata": {},
   "outputs": [],
   "source": [
    "for j in range(10):\n",
    "    path = os.path.join(save_dir,f'train_embeds_{j+1}.pt')\n",
    "    \n",
    "    if os.path.exists(path):\n",
    "        continue\n",
    "    \n",
    "    train_path = os.path.join(train_dir, f'{j+1}_train_data.tar.pth')\n",
    "    t = torch.load(train_path, weights_only = False)\n",
    "    embeds = get_vit_embeddings(t)\n",
    "    \n",
    "    torch.save(embeds, path)"
   ]
  },
  {
   "cell_type": "code",
   "execution_count": null,
   "metadata": {},
   "outputs": [],
   "source": [
    "for j in range(10):\n",
    "    path = os.path.join(save_dir,f'eval_embeds_{j+1}.pt')\n",
    "    \n",
    "    if os.path.exists(path):\n",
    "        continue\n",
    "    \n",
    "    eval_path = os.path.join(eval_dir, f'{j+1}_eval_data.tar.pth')\n",
    "    t = torch.load(eval_path, weights_only = False)\n",
    "    embeds = get_vit_embeddings(t)\n",
    "    \n",
    "    torch.save(embeds, path)"
   ]
  }
 ],
 "metadata": {
  "kernelspec": {
   "display_name": "771",
   "language": "python",
   "name": "python3"
  },
  "language_info": {
   "codemirror_mode": {
    "name": "ipython",
    "version": 3
   },
   "file_extension": ".py",
   "mimetype": "text/x-python",
   "name": "python",
   "nbconvert_exporter": "python",
   "pygments_lexer": "ipython3",
   "version": "3.12.5"
  }
 },
 "nbformat": 4,
 "nbformat_minor": 2
}
