{
 "cells": [
  {
   "cell_type": "code",
   "execution_count": 1,
   "metadata": {},
   "outputs": [],
   "source": [
    "import torch\n",
    "import os\n",
    "from torchvision import transforms"
   ]
  },
  {
   "cell_type": "code",
   "execution_count": 2,
   "metadata": {},
   "outputs": [],
   "source": [
    "train_dir = os.path.join('dataset', 'part_one_dataset', 'train_data')\n",
    "eval_dir = os.path.join('dataset', 'part_one_dataset', 'eval_data')\n",
    "save_dir = os.path.join('part_1_vit_embeds')"
   ]
  },
  {
   "cell_type": "code",
   "execution_count": 3,
   "metadata": {},
   "outputs": [],
   "source": [
    "import numpy as np\n",
    "from sklearn.metrics.pairwise import cosine_distances, manhattan_distances\n",
    "\n",
    "class LWP:\n",
    "    \"\"\"Learning Vector Prototypes with configurable distance function\"\"\"\n",
    "    \n",
    "    DISTANCE_FUNCTIONS = {\n",
    "        'euclidean': lambda x, y: np.linalg.norm(x - y),\n",
    "        'cosine': lambda x, y: cosine_distances(x.reshape(1, -1), y.reshape(1, -1))[0][0],\n",
    "        'manhattan': lambda x, y: manhattan_distances(x.reshape(1, -1), y.reshape(1, -1))[0][0],\n",
    "        'minkowski': lambda x, y, p=2: np.power(np.sum(np.power(np.abs(x - y), p)), 1/p)\n",
    "    }\n",
    "    \n",
    "    def __init__(self, distance_metric='euclidean', **distance_params):\n",
    "        \"\"\"\n",
    "            distance_params (dict): Additional parameters for the distance function\n",
    "        \"\"\"\n",
    "        self.prototypes = {}\n",
    "        self.class_counts = {i: 0 for i in range(10)}\n",
    "        \n",
    "        if callable(distance_metric):\n",
    "            self.distance_fn = distance_metric\n",
    "        elif distance_metric in self.DISTANCE_FUNCTIONS:\n",
    "            if distance_metric == 'minkowski':\n",
    "                p = distance_params.get('p', 2)\n",
    "                self.distance_fn = lambda x, y: self.DISTANCE_FUNCTIONS[distance_metric](x, y, p)\n",
    "            else:\n",
    "                self.distance_fn = self.DISTANCE_FUNCTIONS[distance_metric]\n",
    "        else:\n",
    "            raise ValueError(f\"Unknown distance metric: {distance_metric}. \" \n",
    "                           f\"Available metrics: {list(self.DISTANCE_FUNCTIONS.keys())}\")\n",
    "\n",
    "    def fit(self, features, labels):\n",
    "        unique_labels = np.unique(labels)\n",
    "        for label in unique_labels:\n",
    "            samples = features[labels == label]\n",
    "            num_samples = len(samples)\n",
    "            \n",
    "            if label not in self.prototypes:  # Original condition was: if label not in self.prototypes\n",
    "                self.prototypes[label] = samples.mean(axis=0)\n",
    "                self.class_counts[label] = len(samples)\n",
    "            else:\n",
    "                self.class_counts[label] += len(samples)\n",
    "                self.prototypes[label] = (\n",
    "                    (self.class_counts[label] - num_samples) / self.class_counts[label] * self.prototypes[label] +\n",
    "                    num_samples / self.class_counts[label] * samples.mean(axis=0)\n",
    "                )\n",
    "\n",
    "    def predict(self, features):\n",
    "        preds = []\n",
    "        for feature in features:\n",
    "            distances = {\n",
    "                label: self.distance_fn(feature, proto)\n",
    "                for label, proto in self.prototypes.items()\n",
    "            }\n",
    "            preds.append(min(distances, key=distances.get))\n",
    "        return np.array(preds)"
   ]
  },
  {
   "cell_type": "markdown",
   "metadata": {},
   "source": [
    "## Get Eval Data\n",
    "Evaluating on trainset for now"
   ]
  },
  {
   "cell_type": "code",
   "execution_count": 4,
   "metadata": {},
   "outputs": [
    {
     "name": "stderr",
     "output_type": "stream",
     "text": [
      "/tmp/ipykernel_27752/1086737898.py:9: FutureWarning: You are using `torch.load` with `weights_only=False` (the current default value), which uses the default pickle module implicitly. It is possible to construct malicious pickle data which will execute arbitrary code during unpickling (See https://github.com/pytorch/pytorch/blob/main/SECURITY.md#untrusted-models for more details). In a future release, the default value for `weights_only` will be flipped to `True`. This limits the functions that could be executed during unpickling. Arbitrary objects will no longer be allowed to be loaded via this mode unless they are explicitly allowlisted by the user via `torch.serialization.add_safe_globals`. We recommend you start setting `weights_only=True` for any use case where you don't have full control of the loaded file. Please open an issue on GitHub for any issues related to this experimental feature.\n",
      "  domains[j]['features'] = torch.load(os.path.join(save_dir,f'train_embeds_{j+1}.pt'))\n"
     ]
    }
   ],
   "source": [
    "domains = [{} for _ in range(20)]\n",
    "\n",
    "for j in range(10):\n",
    "    \n",
    "    train_path = os.path.join(train_dir, f'{j+1}_train_data.tar.pth')\n",
    "    t = torch.load(train_path, weights_only = False)\n",
    "    \n",
    "    domains[j]['labels'] = t['targets'] if 'targets' in t else None\n",
    "    domains[j]['features'] = torch.load(os.path.join(save_dir,f'train_embeds_{j+1}.pt'))"
   ]
  },
  {
   "cell_type": "code",
   "execution_count": 5,
   "metadata": {},
   "outputs": [
    {
     "name": "stderr",
     "output_type": "stream",
     "text": [
      "/tmp/ipykernel_27752/2294866432.py:11: FutureWarning: You are using `torch.load` with `weights_only=False` (the current default value), which uses the default pickle module implicitly. It is possible to construct malicious pickle data which will execute arbitrary code during unpickling (See https://github.com/pytorch/pytorch/blob/main/SECURITY.md#untrusted-models for more details). In a future release, the default value for `weights_only` will be flipped to `True`. This limits the functions that could be executed during unpickling. Arbitrary objects will no longer be allowed to be loaded via this mode unless they are explicitly allowlisted by the user via `torch.serialization.add_safe_globals`. We recommend you start setting `weights_only=True` for any use case where you don't have full control of the loaded file. Please open an issue on GitHub for any issues related to this experimental feature.\n",
      "  eval_domains[j]['features'] = torch.load(os.path.join(save_dir,f'eval_embeds_{j+1}.pt'))\n"
     ]
    }
   ],
   "source": [
    "eval_domains = [{} for _ in range(20)]\n",
    "\n",
    "for j in range(10):\n",
    "    \n",
    "    eval_path = os.path.join(eval_dir, f'{j+1}_eval_data.tar.pth')\n",
    "    t = torch.load(eval_path, weights_only = False)\n",
    "\n",
    "    data = t['data'] # both numpy.ndarray\n",
    "    \n",
    "    eval_domains[j]['labels'] = t['targets'] if 'targets' in t else None\n",
    "    eval_domains[j]['features'] = torch.load(os.path.join(save_dir,f'eval_embeds_{j+1}.pt'))"
   ]
  },
  {
   "cell_type": "markdown",
   "metadata": {},
   "source": [
    "## Adding part two dataset here"
   ]
  },
  {
   "cell_type": "code",
   "execution_count": 6,
   "metadata": {},
   "outputs": [],
   "source": [
    "train_dir = os.path.join('dataset', 'part_two_dataset', 'train_data')\n",
    "eval_dir = os.path.join('dataset', 'part_two_dataset', 'eval_data')\n",
    "save_dir = os.path.join('part_2_vit_embeds')"
   ]
  },
  {
   "cell_type": "code",
   "execution_count": 7,
   "metadata": {},
   "outputs": [
    {
     "name": "stderr",
     "output_type": "stream",
     "text": [
      "/tmp/ipykernel_27752/3393792869.py:7: FutureWarning: You are using `torch.load` with `weights_only=False` (the current default value), which uses the default pickle module implicitly. It is possible to construct malicious pickle data which will execute arbitrary code during unpickling (See https://github.com/pytorch/pytorch/blob/main/SECURITY.md#untrusted-models for more details). In a future release, the default value for `weights_only` will be flipped to `True`. This limits the functions that could be executed during unpickling. Arbitrary objects will no longer be allowed to be loaded via this mode unless they are explicitly allowlisted by the user via `torch.serialization.add_safe_globals`. We recommend you start setting `weights_only=True` for any use case where you don't have full control of the loaded file. Please open an issue on GitHub for any issues related to this experimental feature.\n",
      "  domains[j+10]['features'] = torch.load(os.path.join(save_dir,f'train_embeds_{j+1}.pt'))\n"
     ]
    }
   ],
   "source": [
    "for j in range(10):\n",
    "    \n",
    "    train_path = os.path.join(train_dir, f'{j+1}_train_data.tar.pth')\n",
    "    t = torch.load(train_path, weights_only = False)\n",
    "    \n",
    "    domains[j+10]['labels'] = t['targets'] if 'targets' in t else None\n",
    "    domains[j+10]['features'] = torch.load(os.path.join(save_dir,f'train_embeds_{j+1}.pt'))"
   ]
  },
  {
   "cell_type": "code",
   "execution_count": 8,
   "metadata": {},
   "outputs": [
    {
     "name": "stderr",
     "output_type": "stream",
     "text": [
      "/tmp/ipykernel_27752/1439786584.py:7: FutureWarning: You are using `torch.load` with `weights_only=False` (the current default value), which uses the default pickle module implicitly. It is possible to construct malicious pickle data which will execute arbitrary code during unpickling (See https://github.com/pytorch/pytorch/blob/main/SECURITY.md#untrusted-models for more details). In a future release, the default value for `weights_only` will be flipped to `True`. This limits the functions that could be executed during unpickling. Arbitrary objects will no longer be allowed to be loaded via this mode unless they are explicitly allowlisted by the user via `torch.serialization.add_safe_globals`. We recommend you start setting `weights_only=True` for any use case where you don't have full control of the loaded file. Please open an issue on GitHub for any issues related to this experimental feature.\n",
      "  eval_domains[j+10]['features'] = torch.load(os.path.join(save_dir,f'eval_embeds_{j+1}.pt'))\n"
     ]
    }
   ],
   "source": [
    "for j in range(10):\n",
    "    \n",
    "    train_path = os.path.join(eval_dir, f'{j+1}_eval_data.tar.pth')\n",
    "    t = torch.load(train_path, weights_only = False)\n",
    "    \n",
    "    eval_domains[j+10]['labels'] = t['targets'] if 'targets' in t else None\n",
    "    eval_domains[j+10]['features'] = torch.load(os.path.join(save_dir,f'eval_embeds_{j+1}.pt'))"
   ]
  },
  {
   "cell_type": "code",
   "execution_count": 9,
   "metadata": {},
   "outputs": [
    {
     "name": "stdout",
     "output_type": "stream",
     "text": [
      "{0: 253, 1: 243, 2: 255, 3: 244, 4: 262, 5: 236, 6: 250, 7: 253, 8: 254, 9: 250}\n",
      "{0: 490, 1: 510, 2: 473, 3: 520, 4: 518, 5: 487, 6: 503, 7: 508, 8: 493, 9: 498}\n",
      "{0: 760, 1: 758, 2: 676, 3: 772, 4: 795, 5: 770, 6: 763, 7: 728, 8: 744, 9: 734}\n",
      "{0: 1012, 1: 1025, 2: 871, 3: 1040, 4: 1070, 5: 1026, 6: 1015, 7: 952, 8: 983, 9: 1006}\n",
      "{0: 1266, 1: 1296, 2: 1066, 3: 1293, 4: 1346, 5: 1303, 6: 1254, 7: 1181, 8: 1221, 9: 1274}\n",
      "{0: 1513, 1: 1527, 2: 1282, 3: 1551, 4: 1638, 5: 1598, 6: 1495, 7: 1416, 8: 1449, 9: 1531}\n",
      "{0: 1763, 1: 1770, 2: 1502, 3: 1799, 4: 1928, 5: 1869, 6: 1729, 7: 1636, 8: 1723, 9: 1781}\n",
      "{0: 2019, 1: 2023, 2: 1740, 3: 2054, 4: 2201, 5: 2159, 6: 1959, 7: 1846, 8: 1958, 9: 2041}\n",
      "{0: 2269, 1: 2288, 2: 1933, 3: 2313, 4: 2500, 5: 2411, 6: 2190, 7: 2075, 8: 2212, 9: 2309}\n",
      "{0: 2512, 1: 2529, 2: 2134, 3: 2579, 4: 2781, 5: 2721, 6: 2425, 7: 2294, 8: 2456, 9: 2569}\n",
      "{0: 2776, 1: 2790, 2: 2334, 3: 2925, 4: 3064, 5: 3009, 6: 2674, 7: 2453, 8: 2684, 9: 2791}\n",
      "{0: 3245, 1: 2892, 2: 2404, 3: 3206, 4: 3327, 5: 3323, 6: 3027, 7: 2585, 8: 2987, 9: 3004}\n",
      "{0: 3505, 1: 3138, 2: 2563, 3: 3493, 4: 3617, 5: 3581, 6: 3315, 7: 2775, 8: 3254, 9: 3259}\n",
      "{0: 3763, 1: 3381, 2: 2757, 3: 3754, 4: 3912, 5: 3848, 6: 3585, 7: 2962, 8: 3520, 9: 3518}\n",
      "{0: 4006, 1: 3632, 2: 2955, 3: 4009, 4: 4192, 5: 4122, 6: 3844, 7: 3168, 8: 3792, 9: 3780}\n",
      "{0: 4310, 1: 3888, 2: 3107, 3: 4326, 4: 4432, 5: 4368, 6: 4150, 7: 3368, 8: 4014, 9: 4037}\n",
      "{0: 4565, 1: 4152, 2: 3296, 3: 4724, 4: 4743, 5: 4580, 6: 4403, 7: 3524, 8: 4237, 9: 4276}\n",
      "{0: 4806, 1: 4373, 2: 3469, 3: 4984, 4: 5058, 5: 4857, 6: 4700, 7: 3701, 8: 4509, 9: 4543}\n",
      "{0: 5097, 1: 4579, 2: 3554, 3: 5374, 4: 5264, 5: 5074, 6: 4856, 7: 3910, 8: 4884, 9: 4908}\n",
      "{0: 5370, 1: 4807, 2: 3740, 3: 5657, 4: 5521, 5: 5319, 6: 5135, 7: 4121, 8: 5138, 9: 5192}\n"
     ]
    }
   ],
   "source": [
    "from sklearn.metrics import accuracy_score\n",
    "import pandas as pd\n",
    "\n",
    "model = LWP(distance_metric='cosine')\n",
    "\n",
    "df = pd.DataFrame()\n",
    "\n",
    "for idx,domain in enumerate(domains):\n",
    "    \n",
    "    x_test = domain['features']\n",
    "    y_pred = model.predict(x_test) if domain['labels'] is None else domain['labels']\n",
    "    \n",
    "    model.fit(x_test, y_pred)\n",
    "    print(model.class_counts)\n",
    "    \n",
    "    scores = []\n",
    "    for eval_domain in eval_domains[:idx+1]:\n",
    "        \n",
    "        features = eval_domain['features']\n",
    "        labels = eval_domain['labels']\n",
    "        \n",
    "        preds = model.predict(features)\n",
    "        acc = accuracy_score(labels, preds)\n",
    "        \n",
    "        scores.append(acc)\n",
    "    \n",
    "    df[f'Domain {idx+1}'] = scores + [np.nan] * (len(eval_domains) - len(scores))"
   ]
  },
  {
   "cell_type": "code",
   "execution_count": 10,
   "metadata": {},
   "outputs": [
    {
     "name": "stdout",
     "output_type": "stream",
     "text": [
      "    Domain 1  Domain 2  Domain 3  Domain 4  Domain 5  Domain 6  Domain 7  \\\n",
      "0     0.8992    0.8940    0.8912    0.8900    0.8900    0.8880    0.8872   \n",
      "1        NaN    0.9028    0.9000    0.8996    0.8976    0.8968    0.8960   \n",
      "2        NaN       NaN    0.9076    0.9056    0.9052    0.9044    0.9028   \n",
      "3        NaN       NaN       NaN    0.9156    0.9144    0.9144    0.9132   \n",
      "4        NaN       NaN       NaN       NaN    0.9064    0.9052    0.9040   \n",
      "5        NaN       NaN       NaN       NaN       NaN    0.9108    0.9112   \n",
      "6        NaN       NaN       NaN       NaN       NaN       NaN    0.9032   \n",
      "7        NaN       NaN       NaN       NaN       NaN       NaN       NaN   \n",
      "8        NaN       NaN       NaN       NaN       NaN       NaN       NaN   \n",
      "9        NaN       NaN       NaN       NaN       NaN       NaN       NaN   \n",
      "10       NaN       NaN       NaN       NaN       NaN       NaN       NaN   \n",
      "11       NaN       NaN       NaN       NaN       NaN       NaN       NaN   \n",
      "12       NaN       NaN       NaN       NaN       NaN       NaN       NaN   \n",
      "13       NaN       NaN       NaN       NaN       NaN       NaN       NaN   \n",
      "14       NaN       NaN       NaN       NaN       NaN       NaN       NaN   \n",
      "15       NaN       NaN       NaN       NaN       NaN       NaN       NaN   \n",
      "16       NaN       NaN       NaN       NaN       NaN       NaN       NaN   \n",
      "17       NaN       NaN       NaN       NaN       NaN       NaN       NaN   \n",
      "18       NaN       NaN       NaN       NaN       NaN       NaN       NaN   \n",
      "19       NaN       NaN       NaN       NaN       NaN       NaN       NaN   \n",
      "\n",
      "    Domain 8  Domain 9  Domain 10  Domain 11  Domain 12  Domain 13  Domain 14  \\\n",
      "0     0.8860    0.8852     0.8860     0.8848     0.8844     0.8836     0.8824   \n",
      "1     0.8948    0.8964     0.8948     0.8928     0.8936     0.8924     0.8920   \n",
      "2     0.9016    0.9012     0.9008     0.8988     0.8964     0.8964     0.8960   \n",
      "3     0.9124    0.9124     0.9120     0.9100     0.9100     0.9100     0.9100   \n",
      "4     0.9036    0.9024     0.9008     0.9004     0.8996     0.8988     0.8988   \n",
      "5     0.9120    0.9112     0.9124     0.9088     0.9072     0.9060     0.9060   \n",
      "6     0.9032    0.9036     0.9040     0.9028     0.9012     0.9004     0.8996   \n",
      "7     0.8996    0.8996     0.9000     0.8968     0.8952     0.8940     0.8940   \n",
      "8        NaN    0.9056     0.9052     0.9064     0.9044     0.9044     0.9040   \n",
      "9        NaN       NaN     0.9084     0.9076     0.9060     0.9056     0.9056   \n",
      "10       NaN       NaN        NaN     0.7972     0.7964     0.7956     0.7944   \n",
      "11       NaN       NaN        NaN        NaN     0.6484     0.6516     0.6524   \n",
      "12       NaN       NaN        NaN        NaN        NaN     0.8436     0.8420   \n",
      "13       NaN       NaN        NaN        NaN        NaN        NaN     0.8796   \n",
      "14       NaN       NaN        NaN        NaN        NaN        NaN        NaN   \n",
      "15       NaN       NaN        NaN        NaN        NaN        NaN        NaN   \n",
      "16       NaN       NaN        NaN        NaN        NaN        NaN        NaN   \n",
      "17       NaN       NaN        NaN        NaN        NaN        NaN        NaN   \n",
      "18       NaN       NaN        NaN        NaN        NaN        NaN        NaN   \n",
      "19       NaN       NaN        NaN        NaN        NaN        NaN        NaN   \n",
      "\n",
      "    Domain 15  Domain 16  Domain 17  Domain 18  Domain 19  Domain 20  \n",
      "0      0.8820     0.8816     0.8828     0.8820     0.8840     0.8832  \n",
      "1      0.8920     0.8920     0.8920     0.8920     0.8892     0.8880  \n",
      "2      0.8956     0.8952     0.8940     0.8944     0.8940     0.8940  \n",
      "3      0.9100     0.9088     0.9092     0.9088     0.9080     0.9088  \n",
      "4      0.9000     0.8984     0.8976     0.8964     0.8956     0.8952  \n",
      "5      0.9040     0.9040     0.9024     0.9020     0.9016     0.9016  \n",
      "6      0.8992     0.8980     0.8964     0.8968     0.8936     0.8936  \n",
      "7      0.8940     0.8944     0.8936     0.8924     0.8924     0.8924  \n",
      "8      0.9036     0.9024     0.9020     0.9000     0.8996     0.8992  \n",
      "9      0.9060     0.9052     0.9028     0.9028     0.9016     0.9016  \n",
      "10     0.7936     0.7924     0.7912     0.7916     0.7896     0.7888  \n",
      "11     0.6516     0.6532     0.6528     0.6508     0.6492     0.6476  \n",
      "12     0.8432     0.8420     0.8416     0.8408     0.8400     0.8408  \n",
      "13     0.8796     0.8804     0.8800     0.8800     0.8784     0.8780  \n",
      "14     0.8948     0.8940     0.8936     0.8928     0.8928     0.8928  \n",
      "15        NaN     0.8088     0.8064     0.8056     0.8040     0.8044  \n",
      "16        NaN        NaN     0.8104     0.8112     0.8064     0.8060  \n",
      "17        NaN        NaN        NaN     0.8252     0.8256     0.8248  \n",
      "18        NaN        NaN        NaN        NaN     0.6940     0.6952  \n",
      "19        NaN        NaN        NaN        NaN        NaN     0.8644  \n"
     ]
    }
   ],
   "source": [
    "print(df)"
   ]
  }
 ],
 "metadata": {
  "kernelspec": {
   "display_name": "771",
   "language": "python",
   "name": "python3"
  },
  "language_info": {
   "codemirror_mode": {
    "name": "ipython",
    "version": 3
   },
   "file_extension": ".py",
   "mimetype": "text/x-python",
   "name": "python",
   "nbconvert_exporter": "python",
   "pygments_lexer": "ipython3",
   "version": "3.12.5"
  }
 },
 "nbformat": 4,
 "nbformat_minor": 2
}
