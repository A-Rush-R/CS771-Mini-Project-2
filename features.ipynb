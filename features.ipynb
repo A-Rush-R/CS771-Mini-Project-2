{
 "cells": [
  {
   "cell_type": "code",
   "execution_count": null,
   "metadata": {},
   "outputs": [],
   "source": [
    "import torch\n",
    "import os\n",
    "from torchvision import datasets, transforms, models"
   ]
  },
  {
   "cell_type": "code",
   "execution_count": null,
   "metadata": {},
   "outputs": [],
   "source": [
    "train_dir = os.path.join('dataset', 'part_one_dataset', 'train_data')\n",
    "eval_dir = os.path.join('dataset', 'part_one_dataset', 'eval_data')\n",
    "\n",
    "train_path = os.path.join(train_dir, '1_train_data.tar.pth')\n",
    "eval_path = os.path.join(eval_dir, '1_eval_data.tar.pth')\n",
    "\n",
    "t = torch.load(train_path, weights_only = False)\n"
   ]
  },
  {
   "cell_type": "code",
   "execution_count": null,
   "metadata": {},
   "outputs": [
    {
     "name": "stderr",
     "output_type": "stream",
     "text": [
      "/home/arush-upadhyaya/anaconda3/envs/771/lib/python3.12/site-packages/torchvision/models/_utils.py:208: UserWarning: The parameter 'pretrained' is deprecated since 0.13 and may be removed in the future, please use 'weights' instead.\n",
      "  warnings.warn(\n",
      "/home/arush-upadhyaya/anaconda3/envs/771/lib/python3.12/site-packages/torchvision/models/_utils.py:223: UserWarning: Arguments other than a weight enum or `None` for 'weights' are deprecated since 0.13 and may be removed in the future. The current behavior is equivalent to passing `weights=ResNet18_Weights.IMAGENET1K_V1`. You can also use `weights=ResNet18_Weights.DEFAULT` to get the most up-to-date weights.\n",
      "  warnings.warn(msg)\n"
     ]
    }
   ],
   "source": [
    "from torchvision import models\n",
    "import torch\n",
    "\n",
    "# Load a pre-trained ResNet model\n",
    "resnet = models.resnet18(pretrained=True)\n",
    "resnet = torch.nn.Sequential(*list(resnet.children())[:-1])  # Remove the last layer\n",
    "resnet.eval()  # Set to evaluation mode\n",
    "\n",
    "# Move model to GPU if available\n",
    "device = torch.device(\"cuda\" if torch.cuda.is_available() else \"cpu\")\n",
    "resnet = resnet.to(device)\n"
   ]
  },
  {
   "cell_type": "code",
   "execution_count": null,
   "metadata": {},
   "outputs": [],
   "source": [
    "import numpy as np\n",
    "import torch\n",
    "\n",
    "# Example ndarray of shape (2500, 32, 32, 3)\n",
    "data, targets = t['data'], t['targets'] # both numpy.ndarray\n",
    "# Convert to PyTorch tensor\n",
    "X_tensor = torch.tensor(data, dtype=torch.float32)  # Convert to tensor\n",
    "X_tensor = X_tensor.permute(0, 3, 1, 2)  # Change shape to (2500, 3, 32, 32)\n"
   ]
  },
  {
   "cell_type": "code",
   "execution_count": null,
   "metadata": {},
   "outputs": [
    {
     "name": "stdout",
     "output_type": "stream",
     "text": [
      "torch.Size([2500, 3, 224, 224])\n"
     ]
    }
   ],
   "source": [
    "transform = transforms.Compose([\n",
    "    transforms.Resize((224, 224)),  # Resize images to 224x224 (ResNet input size)\n",
    "    transforms.Normalize(mean=[0.485, 0.456, 0.406], std=[0.229, 0.224, 0.225])  # ImageNet normalization\n",
    "])\n",
    "\n",
    "# 2. Apply the transformation to each image in the batch\n",
    "# Convert the tensor to float32 if it's not already (for normalization)\n",
    "tensor = X_tensor.float()\n",
    "\n",
    "# 3. Apply transformations to the batch of images\n",
    "# The transform function expects each image to be a PIL Image,\n",
    "# so we will need to loop through and apply the transformations to each image\n",
    "transformed_images = []\n",
    "for image in tensor:\n",
    "    # Convert each image tensor (C, H, W) to PIL Image for transformation\n",
    "    transformed_image = transform(image)  # Apply the transformations\n",
    "    transformed_images.append(transformed_image)\n",
    "\n",
    "# 4. Stack the transformed images back into a batch\n",
    "preprocessed_tensor = torch.stack(transformed_images)  # Shape: (2500, 3, 224, 224)\n",
    "\n",
    "# 5. Check the shape of the preprocessed tensor\n",
    "print(preprocessed_tensor.shape)  "
   ]
  },
  {
   "cell_type": "code",
   "execution_count": null,
   "metadata": {},
   "outputs": [],
   "source": [
    "device = torch.device(\"cpu\") # for apple. aap apna dekh lijye\n",
    "resnet = resnet.to(device)\n",
    "\n",
    "preprocessed_batch = preprocessed_tensor.to(device)\n",
    "\n",
    "# 4. Get the embeddings (feature maps)\n",
    "with torch.no_grad():  # Disable gradients for inference\n",
    "    feature_maps = resnet(preprocessed_batch)  # Shape will be (batch_size, 512, 1, 1)\n",
    "\n",
    "# 5. Flatten the feature maps (optional)\n",
    "embeddings = feature_maps.view(feature_maps.size(0), -1)  # Flatten to shape (batch_size, embedding_size)\n",
    "\n",
    "# Print the embeddings shape (should be 2500 x 512)\n",
    "print(\"Embeddings shape:\", type(embeddings))"
   ]
  },
  {
   "cell_type": "code",
   "execution_count": null,
   "metadata": {},
   "outputs": [],
   "source": [
    "def learning_with_prototype(X_train, y_train, X_test):\n",
    "\n",
    "    # needs to be tweaked atm\n",
    "    \"\"\"\n",
    "    Learning with Prototype (LwP) classifier.\n",
    "\n",
    "    Parameters:\n",
    "        X_train (ndarray): Training data features.\n",
    "        y_train (ndarray): Training data labels.\n",
    "        X_test (ndarray): Test data features.\n",
    "\n",
    "    Returns:\n",
    "        ndarray: Predicted labels for the test data.\n",
    "    \"\"\"\n",
    "    unique_labels = np.unique(y_train)\n",
    "    class_prototypes = [np.mean(X_train[y_train == label], axis=0) for label in unique_labels]\n",
    "    predicted_labels = [unique_labels[np.argmin(np.linalg.norm(sample - class_prototypes, axis=1))] for sample in X_test]\n",
    "    return np.array(predicted_labels)\n"
   ]
  }
 ],
 "metadata": {
  "kernelspec": {
   "display_name": "771",
   "language": "python",
   "name": "python3"
  },
  "language_info": {
   "codemirror_mode": {
    "name": "ipython",
    "version": 3
   },
   "file_extension": ".py",
   "mimetype": "text/x-python",
   "name": "python",
   "nbconvert_exporter": "python",
   "pygments_lexer": "ipython3",
   "version": "3.12.5"
  }
 },
 "nbformat": 4,
 "nbformat_minor": 2
}
