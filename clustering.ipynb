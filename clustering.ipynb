{
 "cells": [
  {
   "cell_type": "code",
   "execution_count": null,
   "metadata": {},
   "outputs": [],
   "source": [
    "from domains import load_domains"
   ]
  },
  {
   "cell_type": "code",
   "execution_count": 2,
   "metadata": {},
   "outputs": [],
   "source": [
    "domains, eval_domains = load_domains()"
   ]
  },
  {
   "cell_type": "code",
   "execution_count": null,
   "metadata": {},
   "outputs": [],
   "source": [
    "from lwp import LWP"
   ]
  },
  {
   "cell_type": "code",
   "execution_count": null,
   "metadata": {},
   "outputs": [],
   "source": [
    "from sklearn.cluster import KMeans\n",
    "import numpy as np\n",
    "\n",
    "models = []\n",
    "\n",
    "source_dataset = domains[0]\n",
    "model = LWP(distance_metric='euclidean')\n",
    "model.fit(source_dataset['features'], source_dataset['labels'])\n",
    "models.append(model)\n",
    "\n",
    "for i in range(1, 20):\n",
    "    features = domains[i]['features']\n",
    "    \n",
    "    # Clustering unlabeled data into 10 clusters\n",
    "    kmeans = KMeans(n_clusters=10, random_state=42)\n",
    "    clusters = kmeans.fit_predict(features)\n",
    "    \n",
    "\n",
    "    # Assign labels to clusters\n",
    "    cluster_centers = kmeans.cluster_centers_\n",
    "    predicted_labels = model.predict(cluster_centers)\n",
    "\n",
    "    # Label unlabeled data\n",
    "    pseudo_labels = np.array([predicted_labels[cluster] for cluster in clusters])\n",
    "\n",
    "    model.fit(features, pseudo_labels)\n",
    "    models.append(model)"
   ]
  },
  {
   "cell_type": "code",
   "execution_count": null,
   "metadata": {},
   "outputs": [],
   "source": [
    "from sklearn.metrics import accuracy_score\n",
    "import pandas as pd\n",
    "\n",
    "df = pd.DataFrame()\n",
    "\n",
    "for idx,model in enumerate(models) :\n",
    "    \n",
    "    scores = []\n",
    "    for eval_domain in eval_domains[:idx+1]:\n",
    "        \n",
    "        features = eval_domain['features']\n",
    "        labels = eval_domain['labels']\n",
    "        \n",
    "        preds = model.predict(features)\n",
    "        acc = accuracy_score(labels, preds)\n",
    "        \n",
    "        scores.append(acc)\n",
    "    \n",
    "    df[f'Domain {idx+1}'] = scores + [np.nan] * (len(eval_domains) - len(scores))"
   ]
  },
  {
   "cell_type": "code",
   "execution_count": null,
   "metadata": {},
   "outputs": [
    {
     "name": "stdout",
     "output_type": "stream",
     "text": [
      "    Domain 1  Domain 2  Domain 3  Domain 4  Domain 5  Domain 6  Domain 7  \\\n",
      "0      0.856    0.8560    0.8560    0.8560    0.8560    0.8560    0.8560   \n",
      "1        NaN    0.8544    0.8544    0.8544    0.8544    0.8544    0.8544   \n",
      "2        NaN       NaN    0.8620    0.8620    0.8620    0.8620    0.8620   \n",
      "3        NaN       NaN       NaN    0.8816    0.8816    0.8816    0.8816   \n",
      "4        NaN       NaN       NaN       NaN    0.8744    0.8744    0.8744   \n",
      "5        NaN       NaN       NaN       NaN       NaN    0.8828    0.8828   \n",
      "6        NaN       NaN       NaN       NaN       NaN       NaN    0.8664   \n",
      "7        NaN       NaN       NaN       NaN       NaN       NaN       NaN   \n",
      "8        NaN       NaN       NaN       NaN       NaN       NaN       NaN   \n",
      "9        NaN       NaN       NaN       NaN       NaN       NaN       NaN   \n",
      "10       NaN       NaN       NaN       NaN       NaN       NaN       NaN   \n",
      "11       NaN       NaN       NaN       NaN       NaN       NaN       NaN   \n",
      "12       NaN       NaN       NaN       NaN       NaN       NaN       NaN   \n",
      "13       NaN       NaN       NaN       NaN       NaN       NaN       NaN   \n",
      "14       NaN       NaN       NaN       NaN       NaN       NaN       NaN   \n",
      "15       NaN       NaN       NaN       NaN       NaN       NaN       NaN   \n",
      "16       NaN       NaN       NaN       NaN       NaN       NaN       NaN   \n",
      "17       NaN       NaN       NaN       NaN       NaN       NaN       NaN   \n",
      "18       NaN       NaN       NaN       NaN       NaN       NaN       NaN   \n",
      "19       NaN       NaN       NaN       NaN       NaN       NaN       NaN   \n",
      "\n",
      "    Domain 8  Domain 9  Domain 10  Domain 11  Domain 12  Domain 13  Domain 14  \\\n",
      "0     0.8560    0.8560     0.8560     0.8560     0.8560     0.8560     0.8560   \n",
      "1     0.8544    0.8544     0.8544     0.8544     0.8544     0.8544     0.8544   \n",
      "2     0.8620    0.8620     0.8620     0.8620     0.8620     0.8620     0.8620   \n",
      "3     0.8816    0.8816     0.8816     0.8816     0.8816     0.8816     0.8816   \n",
      "4     0.8744    0.8744     0.8744     0.8744     0.8744     0.8744     0.8744   \n",
      "5     0.8828    0.8828     0.8828     0.8828     0.8828     0.8828     0.8828   \n",
      "6     0.8664    0.8664     0.8664     0.8664     0.8664     0.8664     0.8664   \n",
      "7     0.8612    0.8612     0.8612     0.8612     0.8612     0.8612     0.8612   \n",
      "8        NaN    0.8700     0.8700     0.8700     0.8700     0.8700     0.8700   \n",
      "9        NaN       NaN     0.8716     0.8716     0.8716     0.8716     0.8716   \n",
      "10       NaN       NaN        NaN     0.1060     0.1060     0.1060     0.1060   \n",
      "11       NaN       NaN        NaN        NaN     0.1068     0.1068     0.1068   \n",
      "12       NaN       NaN        NaN        NaN        NaN     0.0988     0.0988   \n",
      "13       NaN       NaN        NaN        NaN        NaN        NaN     0.0972   \n",
      "14       NaN       NaN        NaN        NaN        NaN        NaN        NaN   \n",
      "15       NaN       NaN        NaN        NaN        NaN        NaN        NaN   \n",
      "16       NaN       NaN        NaN        NaN        NaN        NaN        NaN   \n",
      "17       NaN       NaN        NaN        NaN        NaN        NaN        NaN   \n",
      "18       NaN       NaN        NaN        NaN        NaN        NaN        NaN   \n",
      "19       NaN       NaN        NaN        NaN        NaN        NaN        NaN   \n",
      "\n",
      "    Domain 15  Domain 16  Domain 17  Domain 18  Domain 19  Domain 20  \n",
      "0      0.8560     0.8560     0.8560     0.8560     0.8560     0.8560  \n",
      "1      0.8544     0.8544     0.8544     0.8544     0.8544     0.8544  \n",
      "2      0.8620     0.8620     0.8620     0.8620     0.8620     0.8620  \n",
      "3      0.8816     0.8816     0.8816     0.8816     0.8816     0.8816  \n",
      "4      0.8744     0.8744     0.8744     0.8744     0.8744     0.8744  \n",
      "5      0.8828     0.8828     0.8828     0.8828     0.8828     0.8828  \n",
      "6      0.8664     0.8664     0.8664     0.8664     0.8664     0.8664  \n",
      "7      0.8612     0.8612     0.8612     0.8612     0.8612     0.8612  \n",
      "8      0.8700     0.8700     0.8700     0.8700     0.8700     0.8700  \n",
      "9      0.8716     0.8716     0.8716     0.8716     0.8716     0.8716  \n",
      "10     0.1060     0.1060     0.1060     0.1060     0.1060     0.1060  \n",
      "11     0.1068     0.1068     0.1068     0.1068     0.1068     0.1068  \n",
      "12     0.0988     0.0988     0.0988     0.0988     0.0988     0.0988  \n",
      "13     0.0972     0.0972     0.0972     0.0972     0.0972     0.0972  \n",
      "14     0.0992     0.0992     0.0992     0.0992     0.0992     0.0992  \n",
      "15        NaN     0.0912     0.0912     0.0912     0.0912     0.0912  \n",
      "16        NaN        NaN     0.0936     0.0936     0.0936     0.0936  \n",
      "17        NaN        NaN        NaN     0.0936     0.0936     0.0936  \n",
      "18        NaN        NaN        NaN        NaN     0.1000     0.1000  \n",
      "19        NaN        NaN        NaN        NaN        NaN     0.0976  \n"
     ]
    }
   ],
   "source": [
    "print(df)"
   ]
  }
 ],
 "metadata": {
  "kernelspec": {
   "display_name": "771",
   "language": "python",
   "name": "python3"
  },
  "language_info": {
   "codemirror_mode": {
    "name": "ipython",
    "version": 3
   },
   "file_extension": ".py",
   "mimetype": "text/x-python",
   "name": "python",
   "nbconvert_exporter": "python",
   "pygments_lexer": "ipython3",
   "version": "3.12.5"
  }
 },
 "nbformat": 4,
 "nbformat_minor": 2
}
