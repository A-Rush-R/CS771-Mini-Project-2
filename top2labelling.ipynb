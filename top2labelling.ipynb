{
 "cells": [
  {
   "cell_type": "code",
   "execution_count": 1,
   "metadata": {},
   "outputs": [],
   "source": [
    "import os\n",
    "import torch\n",
    "import torch.nn as nn\n",
    "import torch.nn.functional as F\n",
    "from torchvision import transforms\n",
    "from torchvision import models, transforms\n",
    "import numpy as np"
   ]
  },
  {
   "cell_type": "code",
   "execution_count": 2,
   "metadata": {},
   "outputs": [],
   "source": [
    "train_dir = os.path.join('dataset', 'part_one_dataset', 'train_data')\n",
    "eval_dir = os.path.join('dataset', 'part_one_dataset', 'eval_data')\n",
    "train_path = os.path.join(train_dir, '1_train_data.tar.pth')\n",
    "eval_path = os.path.join(eval_dir, '1_eval_data.tar.pth')\n",
    "\n",
    "t = torch.load(train_path, weights_only = False)"
   ]
  },
  {
   "cell_type": "code",
   "execution_count": null,
   "metadata": {},
   "outputs": [],
   "source": []
  },
  {
   "cell_type": "code",
   "execution_count": 19,
   "metadata": {},
   "outputs": [],
   "source": [
    "import numpy as np\n",
    "from sklearn.metrics.pairwise import cosine_distances, manhattan_distances\n",
    "\n",
    "class LWP:\n",
    "    \"\"\"Learning Vector Prototypes with configurable distance function\"\"\"\n",
    "    \n",
    "    DISTANCE_FUNCTIONS = {\n",
    "        'euclidean': lambda x, y: np.linalg.norm(x - y),\n",
    "        'cosine': lambda x, y: cosine_distances(x.reshape(1, -1), y.reshape(1, -1))[0][0],\n",
    "        'manhattan': lambda x, y: manhattan_distances(x.reshape(1, -1), y.reshape(1, -1))[0][0],\n",
    "        'minkowski': lambda x, y, p=2: np.power(np.sum(np.power(np.abs(x - y), p)), 1/p)\n",
    "    }\n",
    "    \n",
    "    def __init__(self, distance_metric='euclidean', **distance_params):\n",
    "        \"\"\"\n",
    "            distance_params (dict): Additional parameters for the distance function\n",
    "        \"\"\"\n",
    "        self.prototypes = {}\n",
    "        self.class_counts = {i: 0 for i in range(10)}\n",
    "        \n",
    "        if callable(distance_metric):\n",
    "            self.distance_fn = distance_metric\n",
    "        elif distance_metric in self.DISTANCE_FUNCTIONS:\n",
    "            if distance_metric == 'minkowski':\n",
    "                p = distance_params.get('p', 2)\n",
    "                self.distance_fn = lambda x, y: self.DISTANCE_FUNCTIONS[distance_metric](x, y, p)\n",
    "            else:\n",
    "                self.distance_fn = self.DISTANCE_FUNCTIONS[distance_metric]\n",
    "        else:\n",
    "            raise ValueError(f\"Unknown distance metric: {distance_metric}. \" \n",
    "                           f\"Available metrics: {list(self.DISTANCE_FUNCTIONS.keys())}\")\n",
    "\n",
    "    def fit(self, features, labels):\n",
    "        unique_labels = np.unique(labels)\n",
    "        for label in unique_labels:\n",
    "            samples = features[labels == label]\n",
    "            num_samples = len(samples)\n",
    "            \n",
    "            if label not in self.prototypes:  # Original condition was: if label not in self.prototypes\n",
    "                self.prototypes[label] = samples.mean(axis=0)\n",
    "                self.class_counts[label] = len(samples)\n",
    "            else:\n",
    "                self.class_counts[label] += len(samples)\n",
    "                self.prototypes[label] = (\n",
    "                    (self.class_counts[label] - num_samples) / self.class_counts[label] * self.prototypes[label] +\n",
    "                    num_samples / self.class_counts[label] * samples.mean(axis=0)\n",
    "                )\n",
    "\n",
    "    def predict(self, features):\n",
    "        preds = []\n",
    "        for feature in features:\n",
    "            distances = {\n",
    "                label: self.distance_fn(feature, proto)\n",
    "                for label, proto in self.prototypes.items()\n",
    "            }\n",
    "            preds.append(min(distances, key=distances.get))\n",
    "        return np.array(preds)"
   ]
  },
  {
   "cell_type": "code",
   "execution_count": 4,
   "metadata": {},
   "outputs": [
    {
     "name": "stdout",
     "output_type": "stream",
     "text": [
      "9\n"
     ]
    }
   ],
   "source": [
    "print (max(t['targets']))"
   ]
  },
  {
   "cell_type": "code",
   "execution_count": 5,
   "metadata": {},
   "outputs": [
    {
     "name": "stdout",
     "output_type": "stream",
     "text": [
      "(2500, 32, 32, 3)\n"
     ]
    }
   ],
   "source": [
    "print ( t['data'].shape)"
   ]
  },
  {
   "cell_type": "code",
   "execution_count": 6,
   "metadata": {},
   "outputs": [
    {
     "name": "stdout",
     "output_type": "stream",
     "text": [
      "(2500, 3072)\n"
     ]
    }
   ],
   "source": [
    "data, targets = t['data'], t['targets'] \n",
    "data=data.reshape(data.shape[0], -1)\n",
    "print(data.shape)"
   ]
  },
  {
   "cell_type": "code",
   "execution_count": 7,
   "metadata": {},
   "outputs": [],
   "source": [
    "import torch\n",
    "import torch.nn.functional as F\n",
    "from torch.utils.data import DataLoader\n",
    "from sklearn.preprocessing import normalize"
   ]
  },
  {
   "cell_type": "code",
   "execution_count": 8,
   "metadata": {},
   "outputs": [],
   "source": [
    "data1, targets1= t['data'], t['targets']\n",
    "data1=data1.reshape(data1.shape[0], -1)\n",
    "data1=normalize(data1)\n",
    "dataloader=DataLoader(data1, batch_size=32, shuffle=False)\n",
    "lwp_model = LWP(distance_metric='cosine')  # LWP model with cosine distance\n",
    "lwp_model.fit(data1, targets1) "
   ]
  },
  {
   "cell_type": "code",
   "execution_count": 25,
   "metadata": {},
   "outputs": [
    {
     "name": "stdout",
     "output_type": "stream",
     "text": [
      "Features shape: (2500, 3072)\n",
      "Labels shape: (2500,)\n",
      "Unique labels: [0 1 2 3 4 5 6 7 8 9]\n"
     ]
    }
   ],
   "source": [
    "print(\"Features shape:\", data1.shape)\n",
    "print(\"Labels shape:\", targets1.shape)\n",
    "print(\"Unique labels:\", np.unique(targets1))\n"
   ]
  },
  {
   "cell_type": "code",
   "execution_count": 21,
   "metadata": {},
   "outputs": [],
   "source": [
    "import os\n",
    "import numpy as np\n",
    "import torch\n",
    "import torch.nn.functional as F\n",
    "from sklearn.preprocessing import normalize\n",
    "from torch.utils.data import DataLoader, TensorDataset\n",
    "from sklearn.metrics.pairwise import cosine_distances"
   ]
  },
  {
   "cell_type": "code",
   "execution_count": null,
   "metadata": {},
   "outputs": [
    {
     "name": "stdout",
     "output_type": "stream",
     "text": [
      "Processing dataset 2 from dataset\\part_one_dataset\\train_data\\2_train_data.tar.pth\n",
      "<torch.utils.data.dataset.TensorDataset object at 0x00000248E22486A0>\n",
      "Processing dataset 3 from dataset\\part_one_dataset\\train_data\\3_train_data.tar.pth\n",
      "<torch.utils.data.dataset.TensorDataset object at 0x00000248E1D800D0>\n",
      "Processing dataset 4 from dataset\\part_one_dataset\\train_data\\4_train_data.tar.pth\n",
      "<torch.utils.data.dataset.TensorDataset object at 0x00000248E22486A0>\n",
      "Processing dataset 5 from dataset\\part_one_dataset\\train_data\\5_train_data.tar.pth\n",
      "<torch.utils.data.dataset.TensorDataset object at 0x00000248E1D800D0>\n",
      "Processing dataset 6 from dataset\\part_one_dataset\\train_data\\6_train_data.tar.pth\n",
      "<torch.utils.data.dataset.TensorDataset object at 0x00000248E22486A0>\n",
      "Processing dataset 7 from dataset\\part_one_dataset\\train_data\\7_train_data.tar.pth\n",
      "<torch.utils.data.dataset.TensorDataset object at 0x00000248E1E52710>\n",
      "Processing dataset 8 from dataset\\part_one_dataset\\train_data\\8_train_data.tar.pth\n",
      "<torch.utils.data.dataset.TensorDataset object at 0x00000248E22486A0>\n",
      "Processing dataset 9 from dataset\\part_one_dataset\\train_data\\9_train_data.tar.pth\n",
      "<torch.utils.data.dataset.TensorDataset object at 0x00000248E1D800D0>\n",
      "Processing dataset 10 from dataset\\part_one_dataset\\train_data\\10_train_data.tar.pth\n",
      "<torch.utils.data.dataset.TensorDataset object at 0x00000248E1D81960>\n"
     ]
    }
   ],
   "source": [
    "# Train LWP model on unlabeled \n",
    "lwp_model = LWP(distance_metric='cosine')  # Using cosine distance for LWP  # Train the LWP model\n",
    "\n",
    "for i in range(2,11):\n",
    "    train_path=os.path.join(train_dir, f'{i}_train_data.tar.pth')\n",
    "    print(f\"Processing dataset {i} from {train_path}\")\n",
    "\n",
    "    dataset=torch.load(train_path, weights_only=False)\n",
    "    data= dataset['data']\n",
    "    data=data.reshape(-1,4,32,32)\n",
    "    data = normalize(data.reshape(data.shape[0],-1))\n",
    "    tensor_dataset = TensorDataset(torch.tensor(data, dtype=torch.float32))\n",
    "    dataloader = DataLoader(tensor_dataset, batch_size=32, shuffle=False)\n",
    "    confidence_scores = []\n",
    "    embeddings = []\n",
    "    predictions = []\n",
    "    \n",
    "    \n"
   ]
  },
  {
   "cell_type": "code",
   "execution_count": null,
   "metadata": {},
   "outputs": [
    {
     "name": "stdout",
     "output_type": "stream",
     "text": [
      "Processing dataset 2 from dataset\\part_one_dataset\\train_data\\2_train_data.tar.pth\n",
      "Prototypes: {}\n"
     ]
    },
    {
     "ename": "ValueError",
     "evalue": "min() arg is an empty sequence",
     "output_type": "error",
     "traceback": [
      "\u001b[1;31m---------------------------------------------------------------------------\u001b[0m",
      "\u001b[1;31mValueError\u001b[0m                                Traceback (most recent call last)",
      "Cell \u001b[1;32mIn[24], line 28\u001b[0m\n\u001b[0;32m     26\u001b[0m \u001b[38;5;28;01mfor\u001b[39;00m sample \u001b[38;5;129;01min\u001b[39;00m inputs:\n\u001b[0;32m     27\u001b[0m     dist_to_prototypes \u001b[38;5;241m=\u001b[39m {label: lwp_model\u001b[38;5;241m.\u001b[39mdistance_fn(sample, proto) \u001b[38;5;28;01mfor\u001b[39;00m label, proto \u001b[38;5;129;01min\u001b[39;00m lwp_model\u001b[38;5;241m.\u001b[39mprototypes\u001b[38;5;241m.\u001b[39mitems()}\n\u001b[1;32m---> 28\u001b[0m     closest_label \u001b[38;5;241m=\u001b[39m \u001b[38;5;28;43mmin\u001b[39;49m\u001b[43m(\u001b[49m\u001b[43mdist_to_prototypes\u001b[49m\u001b[43m,\u001b[49m\u001b[43m \u001b[49m\u001b[43mkey\u001b[49m\u001b[38;5;241;43m=\u001b[39;49m\u001b[43mdist_to_prototypes\u001b[49m\u001b[38;5;241;43m.\u001b[39;49m\u001b[43mget\u001b[49m\u001b[43m)\u001b[49m\n\u001b[0;32m     29\u001b[0m     closest_distance \u001b[38;5;241m=\u001b[39m dist_to_prototypes[closest_label]\n\u001b[0;32m     30\u001b[0m     batch_predictions\u001b[38;5;241m.\u001b[39mappend(closest_label)\n",
      "\u001b[1;31mValueError\u001b[0m: min() arg is an empty sequence"
     ]
    }
   ],
   "source": [
    "\n",
    "# Train LWP model on unlabeled \n",
    "lwp_model = LWP(distance_metric='cosine')  # Using cosine distance for LWP  # Train the LWP model\n",
    "\n",
    "for i in range(2,11):\n",
    "    train_path=os.path.join(train_dir, f'{i}_train_data.tar.pth')\n",
    "    print(f\"Processing dataset {i} from {train_path}\")\n",
    "\n",
    "    dataset=torch.load(train_path, weights_only=False)\n",
    "    data= dataset['data']\n",
    "    data=data.reshape(-1,4,32,32)\n",
    "    data = normalize(data.reshape(data.shape[0],-1))  # Normalize data (important for distance calculations)\n",
    "    # Prepare DataLoader for the dataset\n",
    "    dataloader = DataLoader(data, batch_size=32, shuffle=False)\n",
    "    confidence_scores = []\n",
    "    embeddings = []\n",
    "    predictions = []\n",
    "\n",
    "    with torch.no_grad():\n",
    "        for batch in dataloader:\n",
    "            inputs = batch[0].cpu().numpy()\n",
    "            batch_predictions = []\n",
    "            batch_distances = []\n",
    "            print(\"Prototypes:\", lwp_model.prototypes)\n",
    "\n",
    "            # Predict pseudo-labels and calculate distances to prototypes\n",
    "            for sample in inputs:\n",
    "                dist_to_prototypes = {label: lwp_model.distance_fn(sample, proto) for label, proto in lwp_model.prototypes.items()}\n",
    "                closest_label = min(dist_to_prototypes, key=dist_to_prototypes.get)\n",
    "                closest_distance = dist_to_prototypes[closest_label]\n",
    "                batch_predictions.append(closest_label)\n",
    "                batch_distances.append(closest_distance)\n",
    "\n",
    "            predictions.extend(batch_predictions)\n",
    "            confidence = 1 / (1 + np.array(batch_distances))  # Convert distances to confidence scores\n",
    "            confidence_scores.extend(confidence.tolist())\n",
    "            embeddings.extend(inputs)\n",
    "\n",
    "    embeddings = np.array(embeddings)\n",
    "\n",
    "    # Step 4: Select top 50% most confident samples\n",
    "    sorted_indices = np.argsort(confidence_scores)[::-1]  # Sort by confidence scores (descending)\n",
    "    top_50_percent_indices = sorted_indices[:len(sorted_indices) // 2]\n",
    "\n",
    "    top_50_embeddings = embeddings[top_50_percent_indices]\n",
    "    top_50_predictions = np.array(predictions)[top_50_percent_indices]\n",
    "\n",
    "    # Step 5: Construct class centroids\n",
    "    class_centroids = {}\n",
    "    for label in np.unique(top_50_predictions):\n",
    "        class_embeddings = top_50_embeddings[top_50_predictions == label]\n",
    "        if class_embeddings.size > 0:\n",
    "            centroid = class_embeddings.mean(axis=0)\n",
    "            class_centroids[label] = centroid\n",
    "\n",
    "    # Print centroids\n",
    "    print(f\"Class centroids calculated for dataset {i}:\")\n",
    "    for label, centroid in class_centroids.items():\n",
    "        print(f\"Class {label}: Centroid = {centroid[:5]}...\")\n",
    "   \n"
   ]
  },
  {
   "cell_type": "code",
   "execution_count": null,
   "metadata": {},
   "outputs": [],
   "source": []
  }
 ],
 "metadata": {
  "kernelspec": {
   "display_name": "Python 3",
   "language": "python",
   "name": "python3"
  },
  "language_info": {
   "codemirror_mode": {
    "name": "ipython",
    "version": 3
   },
   "file_extension": ".py",
   "mimetype": "text/x-python",
   "name": "python",
   "nbconvert_exporter": "python",
   "pygments_lexer": "ipython3",
   "version": "3.10.11"
  }
 },
 "nbformat": 4,
 "nbformat_minor": 2
}
