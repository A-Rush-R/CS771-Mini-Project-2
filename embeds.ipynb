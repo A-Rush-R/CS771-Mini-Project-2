{
 "cells": [
  {
   "cell_type": "code",
   "execution_count": 1,
   "metadata": {},
   "outputs": [],
   "source": [
    "import torch\n",
    "import os\n",
    "from torchvision import datasets, transforms, models"
   ]
  },
  {
   "cell_type": "code",
   "execution_count": null,
   "metadata": {},
   "outputs": [],
   "source": [
    "from torchvision import models  \n",
    "import torch\n",
    "\n",
    "# Load a pre-trained ResNet model\n",
    "resnet =  models.resnet18(weights=models.ResNet18_Weights.DEFAULT)\n",
    "resnet = torch.nn.Sequential(*list(resnet.children())[:-1])  # Remove the last layer\n",
    "resnet.eval()  # Set to evaluation mode\n",
    "\n",
    "# Move model to GPU if available\n",
    "device = torch.device(\"cuda\" if torch.cuda.is_available() else \"cpu\")\n",
    "resnet = resnet.to(device)\n",
    "\n",
    "transform = transforms.Compose([\n",
    "    transforms.Resize((224, 224)),  # Resize images to 224x224 (ResNet input size)\n",
    "    transforms.Normalize(mean=[0.485, 0.456, 0.406], std=[0.229, 0.224, 0.225])  # ImageNet normalization\n",
    "])\n"
   ]
  },
  {
   "cell_type": "code",
   "execution_count": null,
   "metadata": {},
   "outputs": [],
   "source": [
    "train_dir = os.path.join('dataset', 'part_one_dataset', 'train_data')\n",
    "eval_dir = os.path.join('dataset', 'part_one_dataset', 'eval_data')\n",
    "\n",
    "device = torch.device('cuda' if torch.cuda.is_available() else 'cpu')"
   ]
  },
  {
   "cell_type": "code",
   "execution_count": null,
   "metadata": {},
   "outputs": [
    {
     "name": "stderr",
     "output_type": "stream",
     "text": [
      "/tmp/ipykernel_85738/4100108068.py:13: FutureWarning: You are using `torch.load` with `weights_only=False` (the current default value), which uses the default pickle module implicitly. It is possible to construct malicious pickle data which will execute arbitrary code during unpickling (See https://github.com/pytorch/pytorch/blob/main/SECURITY.md#untrusted-models for more details). In a future release, the default value for `weights_only` will be flipped to `True`. This limits the functions that could be executed during unpickling. Arbitrary objects will no longer be allowed to be loaded via this mode unless they are explicitly allowlisted by the user via `torch.serialization.add_safe_globals`. We recommend you start setting `weights_only=True` for any use case where you don't have full control of the loaded file. Please open an issue on GitHub for any issues related to this experimental feature.\n",
      "  domains[j]['features']  = torch.load(f'stuff/train_embeds_{j+1}.pt', map_location = device)\n"
     ]
    }
   ],
   "source": [
    "domains = [{} for _ in range(10)]\n",
    "\n",
    "for j in range(10):\n",
    "    \n",
    "    train_path = os.path.join(train_dir, f'{j+1}_train_data.tar.pth')\n",
    "    t = torch.load(train_path, weights_only = False)\n",
    "    data = t['data']\n",
    "\n",
    "    embeds = []\n",
    "    # Convert to PyTorch tensor\n",
    "    X_tensor = torch.tensor(data, dtype=torch.float32)  # Convert to tensor\n",
    "    X_tensor = X_tensor.permute(0, 3, 1, 2)  # Change shape to (2500, 3, 32, 32)\n",
    "\n",
    "    tensor = X_tensor.float()\n",
    "\n",
    "    transformed_images = []\n",
    "    for image in tensor:\n",
    "        # Convert each image tensor (C, H, W) to PIL Image for transformation\n",
    "        transformed_image = transform(image)  # Apply the transformations\n",
    "        transformed_images.append(transformed_image)\n",
    "\n",
    "    preprocessed_tensor = torch.stack(transformed_images)  # Shape: (2500, 3, 224, 224)\n",
    "\n",
    "    for i in range(10) : \n",
    "        \n",
    "        preprocessed_batch = preprocessed_tensor[i*250:(i+1)*250]\n",
    "        preprocessed_batch = preprocessed_batch.to(device)\n",
    "\n",
    "        # 4. Get the embeddings (feature maps)\n",
    "        with torch.no_grad():  # Disable gradients for inference\n",
    "            feature_maps = resnet(preprocessed_batch)  # Shape will be (batch_size, 512, 1, 1)\n",
    "\n",
    "        # 5. Flatten the feature maps (optional)\n",
    "        embeddings = feature_maps.view(feature_maps.size(0), -1)  # Flatten to shape (batch_size, embedding_size)\n",
    "\n",
    "        embeds.append(embeddings)\n",
    "    \n",
    "    embeds = torch.vstack(embeds)\n",
    "    domains[j]['features'] = embeds\n",
    "    \n",
    "    torch.save(embeds, f'stuff/train_embeds_{j+1}.pt')"
   ]
  },
  {
   "cell_type": "code",
   "execution_count": 53,
   "metadata": {},
   "outputs": [
    {
     "name": "stderr",
     "output_type": "stream",
     "text": [
      "/tmp/ipykernel_85738/2390375506.py:13: FutureWarning: You are using `torch.load` with `weights_only=False` (the current default value), which uses the default pickle module implicitly. It is possible to construct malicious pickle data which will execute arbitrary code during unpickling (See https://github.com/pytorch/pytorch/blob/main/SECURITY.md#untrusted-models for more details). In a future release, the default value for `weights_only` will be flipped to `True`. This limits the functions that could be executed during unpickling. Arbitrary objects will no longer be allowed to be loaded via this mode unless they are explicitly allowlisted by the user via `torch.serialization.add_safe_globals`. We recommend you start setting `weights_only=True` for any use case where you don't have full control of the loaded file. Please open an issue on GitHub for any issues related to this experimental feature.\n",
      "  eval_domains[j]['features']  = torch.load(f'stuff/eval_embeds_{j+1}.pt', map_location = device)\n"
     ]
    }
   ],
   "source": [
    "eval_domains = [{} for _ in range(10)]\n",
    "\n",
    "for j in range(10):\n",
    "    \n",
    "    eval_path = os.path.join(eval_dir, f'{j+1}_eval_data.tar.pth')\n",
    "    t = torch.load(eval_path, weights_only = False)\n",
    "\n",
    "    data = t['data'] # both numpy.ndarray\n",
    "    \n",
    "    eval_domains[j]['labels'] = t['targets'] if 'targets' in t else None\n",
    "    \n",
    "    try:\n",
    "        eval_domains[j]['features']  = torch.load(f'stuff/eval_embeds_{j+1}.pt', map_location = device)\n",
    "    except: \n",
    "        embeds = []\n",
    "        # Convert to PyTorch tensor\n",
    "        X_tensor = torch.tensor(data, dtype=torch.float32)  # Convert to tensor\n",
    "        X_tensor = X_tensor.permute(0, 3, 1, 2)  # Change shape to (2500, 3, 32, 32)\n",
    "\n",
    "        tensor = X_tensor.float()\n",
    "\n",
    "        transformed_images = []\n",
    "        for image in tensor:\n",
    "            # Convert each image tensor (C, H, W) to PIL Image for transformation\n",
    "            transformed_image = transform(image)  # Apply the transformations\n",
    "            transformed_images.append(transformed_image)\n",
    "\n",
    "        preprocessed_tensor = torch.stack(transformed_images)  # Shape: (2500, 3, 224, 224)\n",
    "\n",
    "        for i in range(10) : \n",
    "            \n",
    "            preprocessed_batch = preprocessed_tensor[i*250:(i+1)*250]\n",
    "            preprocessed_batch = preprocessed_batch.to(device)\n",
    "\n",
    "            # 4. Get the embeddings (feature maps)\n",
    "            with torch.no_grad():  # Disable gradients for inference\n",
    "                feature_maps = resnet(preprocessed_batch)  # Shape will be (batch_size, 512, 1, 1)\n",
    "\n",
    "            # 5. Flatten the feature maps (optional)\n",
    "            embeddings = feature_maps.view(feature_maps.size(0), -1)  # Flatten to shape (batch_size, embedding_size)\n",
    "\n",
    "            embeds.append(embeddings)\n",
    "        \n",
    "        embeds = torch.vstack(embeds)\n",
    "        eval_domains[j]['features'] = embeds\n",
    "        \n",
    "        torch.save(embeds, f'stuff/eval_embeds_{j+1}.pt')"
   ]
  }
 ],
 "metadata": {
  "kernelspec": {
   "display_name": "771",
   "language": "python",
   "name": "python3"
  },
  "language_info": {
   "codemirror_mode": {
    "name": "ipython",
    "version": 3
   },
   "file_extension": ".py",
   "mimetype": "text/x-python",
   "name": "python",
   "nbconvert_exporter": "python",
   "pygments_lexer": "ipython3",
   "version": "3.12.5"
  }
 },
 "nbformat": 4,
 "nbformat_minor": 2
}
