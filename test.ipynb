{
 "cells": [
  {
   "cell_type": "code",
   "execution_count": 1,
   "metadata": {},
   "outputs": [],
   "source": [
    "%load_ext autoreload\n",
    "%autoreload 2"
   ]
  },
  {
   "cell_type": "code",
   "execution_count": 20,
   "metadata": {},
   "outputs": [],
   "source": [
    "import torch\n",
    "import src.data.data as data\n",
    "import src.models.lwp as lwp\n",
    "import src.distances.euclidean as euclidean"
   ]
  },
  {
   "cell_type": "code",
   "execution_count": 21,
   "metadata": {},
   "outputs": [
    {
     "name": "stderr",
     "output_type": "stream",
     "text": [
      "/home/aujasvit/Desktop/CS771-Mini-Project-2/src/data/data.py:55: FutureWarning: You are using `torch.load` with `weights_only=False` (the current default value), which uses the default pickle module implicitly. It is possible to construct malicious pickle data which will execute arbitrary code during unpickling (See https://github.com/pytorch/pytorch/blob/main/SECURITY.md#untrusted-models for more details). In a future release, the default value for `weights_only` will be flipped to `True`. This limits the functions that could be executed during unpickling. Arbitrary objects will no longer be allowed to be loaded via this mode unless they are explicitly allowlisted by the user via `torch.serialization.add_safe_globals`. We recommend you start setting `weights_only=True` for any use case where you don't have full control of the loaded file. Please open an issue on GitHub for any issues related to this experimental feature.\n",
      "  embeds  = torch.load('embeds/resnet_embeds.pt', map_location = device)\n"
     ]
    }
   ],
   "source": [
    "device = torch.device(\"cuda\" if torch.cuda.is_available() else \"cpu\")\n",
    "x_train, y_train, x_test, y_test = data.resnet_embeddings()\n",
    "x_train = [torch.squeeze(i) for i in x_train]\n",
    "x_test = [torch.squeeze(i) for i in x_test]"
   ]
  },
  {
   "cell_type": "code",
   "execution_count": 26,
   "metadata": {},
   "outputs": [
    {
     "name": "stdout",
     "output_type": "stream",
     "text": [
      "Dataset 1:  0.226\n",
      "Dataset 2: 0.1996\n",
      "Dataset 3: 0.1948\n",
      "Dataset 4: 0.1952\n",
      "Dataset 5: 0.1924\n",
      "Dataset 6: 0.19\n",
      "Dataset 7: 0.188\n",
      "Dataset 8: 0.1868\n",
      "Dataset 9: 0.1848\n",
      "Dataset 10: 0.184\n",
      "Dataset 11: 0.1836\n",
      "Dataset 12: 0.182\n",
      "Dataset 13: 0.182\n",
      "Dataset 14: 0.1796\n",
      "Dataset 15: 0.1784\n",
      "Dataset 16: 0.178\n",
      "Dataset 17: 0.1776\n",
      "Dataset 18: 0.1776\n",
      "Dataset 19: 0.1776\n",
      "Dataset 20: 0.1784\n"
     ]
    }
   ],
   "source": [
    "#initial training\n",
    "x, y = x_train[0], y_train[0]\n",
    "\n",
    "distance = euclidean.EuclideanDistance(device)\n",
    "\n",
    "model = lwp.LearningWithPrototype(\n",
    "    num_classes=10,\n",
    "    device=device,\n",
    "    distance_type=distance,\n",
    "    features=x,\n",
    "    labels=y\n",
    ")\n",
    "print(\"Dataset 1: \", model.eval(x_test[0], y_test[0]))\n",
    "for i in range(1,20):\n",
    "    x = x_train[i]\n",
    "    y = model.predict(x)\n",
    "    model.update(x, y)\n",
    "    print(f\"Dataset {i + 1}:\", model.eval(x_test[0], y_test[0]))"
   ]
  },
  {
   "cell_type": "code",
   "execution_count": 14,
   "metadata": {},
   "outputs": [
    {
     "data": {
      "text/plain": [
       "torch.Size([2500])"
      ]
     },
     "execution_count": 14,
     "metadata": {},
     "output_type": "execute_result"
    }
   ],
   "source": [
    "y.shape"
   ]
  }
 ],
 "metadata": {
  "kernelspec": {
   "display_name": "base",
   "language": "python",
   "name": "python3"
  },
  "language_info": {
   "codemirror_mode": {
    "name": "ipython",
    "version": 3
   },
   "file_extension": ".py",
   "mimetype": "text/x-python",
   "name": "python",
   "nbconvert_exporter": "python",
   "pygments_lexer": "ipython3",
   "version": "3.11.4"
  }
 },
 "nbformat": 4,
 "nbformat_minor": 2
}
