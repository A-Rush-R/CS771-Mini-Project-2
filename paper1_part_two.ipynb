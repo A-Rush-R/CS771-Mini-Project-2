{
 "cells": [
  {
   "cell_type": "code",
   "execution_count": 47,
   "metadata": {},
   "outputs": [],
   "source": [
    "import torch\n",
    "import os"
   ]
  },
  {
   "cell_type": "code",
   "execution_count": 48,
   "metadata": {},
   "outputs": [],
   "source": [
    "train_dir = os.path.join('dataset', 'part_one_dataset', 'train_data')\n",
    "eval_dir = os.path.join('dataset', 'part_one_dataset', 'eval_data')\n",
    "save_dir = os.path.join('part_1_vit_embeds')"
   ]
  },
  {
   "cell_type": "code",
   "execution_count": 49,
   "metadata": {},
   "outputs": [
    {
     "name": "stderr",
     "output_type": "stream",
     "text": [
      "/tmp/ipykernel_13802/1086737898.py:9: FutureWarning: You are using `torch.load` with `weights_only=False` (the current default value), which uses the default pickle module implicitly. It is possible to construct malicious pickle data which will execute arbitrary code during unpickling (See https://github.com/pytorch/pytorch/blob/main/SECURITY.md#untrusted-models for more details). In a future release, the default value for `weights_only` will be flipped to `True`. This limits the functions that could be executed during unpickling. Arbitrary objects will no longer be allowed to be loaded via this mode unless they are explicitly allowlisted by the user via `torch.serialization.add_safe_globals`. We recommend you start setting `weights_only=True` for any use case where you don't have full control of the loaded file. Please open an issue on GitHub for any issues related to this experimental feature.\n",
      "  domains[j]['features'] = torch.load(os.path.join(save_dir,f'train_embeds_{j+1}.pt'))\n"
     ]
    }
   ],
   "source": [
    "domains = [{} for _ in range(20)]\n",
    "\n",
    "for j in range(10):\n",
    "    \n",
    "    train_path = os.path.join(train_dir, f'{j+1}_train_data.tar.pth')\n",
    "    t = torch.load(train_path, weights_only = False)\n",
    "    \n",
    "    domains[j]['labels'] = t['targets'] if 'targets' in t else None\n",
    "    domains[j]['features'] = torch.load(os.path.join(save_dir,f'train_embeds_{j+1}.pt'))"
   ]
  },
  {
   "cell_type": "code",
   "execution_count": 50,
   "metadata": {},
   "outputs": [
    {
     "name": "stderr",
     "output_type": "stream",
     "text": [
      "/tmp/ipykernel_13802/2294866432.py:11: FutureWarning: You are using `torch.load` with `weights_only=False` (the current default value), which uses the default pickle module implicitly. It is possible to construct malicious pickle data which will execute arbitrary code during unpickling (See https://github.com/pytorch/pytorch/blob/main/SECURITY.md#untrusted-models for more details). In a future release, the default value for `weights_only` will be flipped to `True`. This limits the functions that could be executed during unpickling. Arbitrary objects will no longer be allowed to be loaded via this mode unless they are explicitly allowlisted by the user via `torch.serialization.add_safe_globals`. We recommend you start setting `weights_only=True` for any use case where you don't have full control of the loaded file. Please open an issue on GitHub for any issues related to this experimental feature.\n",
      "  eval_domains[j]['features'] = torch.load(os.path.join(save_dir,f'eval_embeds_{j+1}.pt'))\n"
     ]
    }
   ],
   "source": [
    "eval_domains = [{} for _ in range(20)]\n",
    "\n",
    "for j in range(10):\n",
    "    \n",
    "    eval_path = os.path.join(eval_dir, f'{j+1}_eval_data.tar.pth')\n",
    "    t = torch.load(eval_path, weights_only = False)\n",
    "\n",
    "    data = t['data'] # both numpy.ndarray\n",
    "    \n",
    "    eval_domains[j]['labels'] = t['targets'] if 'targets' in t else None\n",
    "    eval_domains[j]['features'] = torch.load(os.path.join(save_dir,f'eval_embeds_{j+1}.pt'))"
   ]
  },
  {
   "cell_type": "code",
   "execution_count": 51,
   "metadata": {},
   "outputs": [],
   "source": [
    "train_dir = os.path.join('dataset', 'part_two_dataset', 'train_data')\n",
    "eval_dir = os.path.join('dataset', 'part_two_dataset', 'eval_data')\n",
    "save_dir = os.path.join('part_2_vit_embeds')"
   ]
  },
  {
   "cell_type": "code",
   "execution_count": 52,
   "metadata": {},
   "outputs": [
    {
     "name": "stderr",
     "output_type": "stream",
     "text": [
      "/tmp/ipykernel_13802/3393792869.py:7: FutureWarning: You are using `torch.load` with `weights_only=False` (the current default value), which uses the default pickle module implicitly. It is possible to construct malicious pickle data which will execute arbitrary code during unpickling (See https://github.com/pytorch/pytorch/blob/main/SECURITY.md#untrusted-models for more details). In a future release, the default value for `weights_only` will be flipped to `True`. This limits the functions that could be executed during unpickling. Arbitrary objects will no longer be allowed to be loaded via this mode unless they are explicitly allowlisted by the user via `torch.serialization.add_safe_globals`. We recommend you start setting `weights_only=True` for any use case where you don't have full control of the loaded file. Please open an issue on GitHub for any issues related to this experimental feature.\n",
      "  domains[j+10]['features'] = torch.load(os.path.join(save_dir,f'train_embeds_{j+1}.pt'))\n"
     ]
    }
   ],
   "source": [
    "for j in range(10):\n",
    "    \n",
    "    train_path = os.path.join(train_dir, f'{j+1}_train_data.tar.pth')\n",
    "    t = torch.load(train_path, weights_only = False)\n",
    "    \n",
    "    domains[j+10]['labels'] = t['targets'] if 'targets' in t else None\n",
    "    domains[j+10]['features'] = torch.load(os.path.join(save_dir,f'train_embeds_{j+1}.pt'))"
   ]
  },
  {
   "cell_type": "code",
   "execution_count": 53,
   "metadata": {},
   "outputs": [
    {
     "name": "stderr",
     "output_type": "stream",
     "text": [
      "/tmp/ipykernel_13802/1848790312.py:7: FutureWarning: You are using `torch.load` with `weights_only=False` (the current default value), which uses the default pickle module implicitly. It is possible to construct malicious pickle data which will execute arbitrary code during unpickling (See https://github.com/pytorch/pytorch/blob/main/SECURITY.md#untrusted-models for more details). In a future release, the default value for `weights_only` will be flipped to `True`. This limits the functions that could be executed during unpickling. Arbitrary objects will no longer be allowed to be loaded via this mode unless they are explicitly allowlisted by the user via `torch.serialization.add_safe_globals`. We recommend you start setting `weights_only=True` for any use case where you don't have full control of the loaded file. Please open an issue on GitHub for any issues related to this experimental feature.\n",
      "  eval_domains[j+10]['features'] = torch.load(os.path.join(save_dir,f'train_embeds_{j+1}.pt'))\n"
     ]
    }
   ],
   "source": [
    "for j in range(10):\n",
    "    \n",
    "    train_path = os.path.join(eval_dir, f'{j+1}_eval_data.tar.pth')\n",
    "    t = torch.load(train_path, weights_only = False)\n",
    "    \n",
    "    eval_domains[j+10]['labels'] = t['targets'] if 'targets' in t else None\n",
    "    eval_domains[j+10]['features'] = torch.load(os.path.join(save_dir,f'train_embeds_{j+1}.pt'))"
   ]
  },
  {
   "cell_type": "code",
   "execution_count": null,
   "metadata": {},
   "outputs": [],
   "source": [
    "import numpy as np\n",
    "from sklearn.metrics.pairwise import euclidean_distances\n",
    "\n",
    "class LWP:\n",
    "    def __init__(self):\n",
    "        self.prototypes = {}\n",
    "        self.class_counts = {i:0 for i in range(10)}\n",
    "    \n",
    "    def fit(self, features, labels):\n",
    "        unique_labels = np.unique(labels)\n",
    "        \n",
    "        for label in unique_labels:\n",
    "            \n",
    "            samples = features[labels == label]\n",
    "            num_samples = len(samples)\n",
    "            \n",
    "            self.class_counts[label] += num_samples\n",
    "            if True :\n",
    "            # if label not in self.prototypes:\n",
    "                self.prototypes[label] = samples.mean(axis=0)\n",
    "            else:\n",
    "                self.class_counts[label] += len(samples)\n",
    "                self.prototypes[label] = (self.class_counts[label] - num_samples) / self.class_counts[label] * self.prototypes[label] + num_samples/ self.class_counts[label] * samples.mean(axis=0)\n",
    "                \n",
    "            \n",
    "    def predict(self, features):\n",
    "        preds = []\n",
    "        for feature in features:\n",
    "            distances = {label: np.linalg.norm(feature - proto) for label, proto in self.prototypes.items()}\n",
    "            preds.append(min(distances, key=distances.get))\n",
    "        return np.array(preds)"
   ]
  },
  {
   "cell_type": "code",
   "execution_count": 55,
   "metadata": {},
   "outputs": [],
   "source": [
    "def sample_from_gmms(gmms, n_samples, class_counts, num_classes = 10):\n",
    "    pseudo_features = []\n",
    "    pseudo_labels = []\n",
    "    sampling_probabilities = class_counts / np.sum(class_counts)\n",
    "    print('class counts are' , class_counts)\n",
    "    \n",
    "    for i in range(num_classes):\n",
    "        # Determine the number of samples for this class based on its probability\n",
    "        num_class_samples = int(n_samples * sampling_probabilities[i])\n",
    "        \n",
    "        # Sample from the ith GMM\n",
    "        class_samples, _ = gmms[i].sample(num_class_samples)\n",
    "        \n",
    "        # Append the samples and corresponding class labels\n",
    "        pseudo_features.append(class_samples)\n",
    "        pseudo_labels.extend([i] * num_class_samples)\n",
    "    \n",
    "    # Concatenate the features and labels\n",
    "    pseudo_features = np.concatenate(pseudo_features, axis=0)\n",
    "    pseudo_labels = np.array(pseudo_labels)\n",
    "    \n",
    "    return pseudo_features, pseudo_labels"
   ]
  },
  {
   "cell_type": "code",
   "execution_count": 56,
   "metadata": {},
   "outputs": [],
   "source": [
    "from sklearn.mixture import GaussianMixture\n",
    "\n",
    "num_classes = 10\n",
    "models = []\n",
    "\n",
    "source_dataset = domains[0]\n",
    "gmms = [None] * num_classes\n",
    "\n",
    "model = LWP()\n",
    "model.fit(source_dataset['features'], source_dataset['labels'])\n",
    "models.append(model)\n",
    "\n",
    "class_frequencies = [np.sum(source_dataset['labels'] == i) for i in range(num_classes)]\n",
    "total_samples = np.sum(class_frequencies)\n",
    "sampling_probabilities = np.array(class_frequencies) / total_samples\n",
    "\n",
    "# Update GMM Models\n",
    "for i in range(num_classes):\n",
    "    gmms[i] = GaussianMixture(n_components=2, covariance_type='full', random_state=42)\n",
    "    gmms[i].fit(source_dataset['features'][source_dataset['labels'] == i])"
   ]
  },
  {
   "cell_type": "code",
   "execution_count": 57,
   "metadata": {},
   "outputs": [
    {
     "name": "stdout",
     "output_type": "stream",
     "text": [
      "[253, 243, 255, 244, 262, 236, 250, 253, 254, 250]\n"
     ]
    }
   ],
   "source": [
    "print(list(model.class_counts.values()))"
   ]
  },
  {
   "cell_type": "code",
   "execution_count": 58,
   "metadata": {},
   "outputs": [
    {
     "name": "stdout",
     "output_type": "stream",
     "text": [
      "class counts are [253, 243, 255, 244, 262, 236, 250, 253, 254, 250]\n",
      "class counts are [748, 742, 737, 755, 776, 733, 748, 760, 750, 750]\n",
      "class counts are [1262, 1231, 1198, 1257, 1304, 1274, 1248, 1227, 1259, 1235]\n",
      "class counts are [1763, 1738, 1641, 1776, 1837, 1803, 1735, 1690, 1752, 1754]\n",
      "class counts are [2262, 2254, 2083, 2283, 2372, 2352, 2212, 2153, 2242, 2271]\n",
      "class counts are [2759, 2722, 2542, 2786, 2925, 2925, 2691, 2619, 2722, 2787]\n",
      "class counts are [3260, 3203, 3005, 3283, 3473, 3481, 3164, 3068, 3242, 3295]\n",
      "class counts are [3764, 3696, 3484, 3799, 4012, 4049, 3630, 3500, 3728, 3806]\n",
      "class counts are [4261, 4203, 3917, 4315, 4585, 4589, 4093, 3940, 4232, 4328]\n",
      "class counts are [4758, 4685, 4353, 4833, 5138, 5193, 4558, 4373, 4726, 4840]\n",
      "class counts are [5277, 5170, 4791, 5473, 5674, 5779, 5023, 4748, 5204, 5312]\n",
      "class counts are [6022, 5495, 5100, 6040, 6205, 6391, 5579, 5098, 5745, 5772]\n",
      "class counts are [6536, 5971, 5487, 6598, 6767, 6940, 6096, 5505, 6245, 6298]\n",
      "class counts are [7052, 6461, 5902, 7134, 7332, 7506, 6589, 5907, 6753, 6803]\n",
      "class counts are [7564, 6945, 6319, 7656, 7874, 8083, 7080, 6328, 7270, 7315]\n",
      "class counts are [8134, 7433, 6694, 8283, 8379, 8625, 7599, 6731, 7733, 7818]\n",
      "class counts are [8656, 7920, 7102, 8953, 8967, 9152, 8075, 7093, 8202, 8304]\n",
      "class counts are [9159, 8366, 7489, 9448, 9573, 9756, 8595, 7480, 8725, 8827]\n",
      "class counts are [9711, 8791, 7780, 10167, 10030, 10284, 8960, 7904, 9360, 9426]\n"
     ]
    }
   ],
   "source": [
    "pseudo_size = 2500\n",
    "num_iters = 10\n",
    "\n",
    "for i in range(1, 20) :\n",
    "    curr_dataset = domains[i]['features']\n",
    "    curr_dataset_labels = model.predict(curr_dataset)\n",
    "    \n",
    "    pseudo_dataset = {'features': [], 'labels': []}\n",
    "    \n",
    "    pseudo_dataset['features'], pseudo_dataset['labels'] = sample_from_gmms(gmms, pseudo_size, list(model.class_counts.values()), num_classes = 10)\n",
    "    \n",
    "    # for j in range(num_iters):\n",
    "    #     batch_size_pseudo = len(pseudo_dataset['features']) // num_iters\n",
    "    #     batch_pseudo = pseudo_dataset['features'][j*batch_size_pseudo:(j+1)*batch_size_pseudo]\n",
    "    #     batch_pseudo_labels = pseudo_dataset['labels'][j*batch_size_pseudo:(j+1)*batch_size_pseudo]\n",
    "        \n",
    "    #     batch_size_curr = len(curr_dataset) // num_iters\n",
    "    #     batch_curr = curr_dataset[j*batch_size_curr:(j+1)*batch_size_curr]\n",
    "    #     batch_curr_labels = curr_dataset_labels[j*batch_size_curr:(j+1)*batch_size_curr]\n",
    "        \n",
    "    #     # Combine the current dataset with the pseudo dataset\n",
    "    #     batch = np.concatenate([batch_curr, batch_pseudo], axis=0)\n",
    "    #     batch_labels = np.concatenate([batch_curr_labels, batch_pseudo_labels], axis=0)\n",
    "    \n",
    "    new_dataset = {}\n",
    "    new_dataset['features'] = np.concatenate([pseudo_dataset['features'], curr_dataset])\n",
    "    new_dataset['labels'] = np.concatenate([pseudo_dataset['labels'], curr_dataset_labels])\n",
    "    model.fit(new_dataset['features'], new_dataset['labels'])\n",
    "    \n",
    "    models.append(model)\n",
    "    \n",
    "    # Update GMM Models\n",
    "    for i in range(num_classes):\n",
    "        gmms[i] = GaussianMixture(n_components=2, covariance_type='full', random_state=42)\n",
    "        gmms[i].fit(new_dataset['features'][new_dataset['labels'] == i])"
   ]
  },
  {
   "cell_type": "code",
   "execution_count": 59,
   "metadata": {},
   "outputs": [],
   "source": [
    "from sklearn.metrics import accuracy_score\n",
    "import pandas as pd\n",
    "\n",
    "model = LWP()\n",
    "model.fit(domains[0]['features'], domains[0]['labels'])\n",
    "\n",
    "df = pd.DataFrame()\n",
    "\n",
    "for idx,model in enumerate(models) :\n",
    "    \n",
    "    scores = []\n",
    "    for eval_domain in eval_domains[:idx+1]:\n",
    "        \n",
    "        features = eval_domain['features']\n",
    "        labels = eval_domain['labels']\n",
    "        \n",
    "        preds = model.predict(features)\n",
    "        acc = accuracy_score(labels, preds)\n",
    "        \n",
    "        scores.append(acc)\n",
    "    \n",
    "    df[f'Domain {idx+1}'] = scores + [np.nan] * (len(eval_domains) - len(scores))"
   ]
  },
  {
   "cell_type": "code",
   "execution_count": 60,
   "metadata": {},
   "outputs": [
    {
     "name": "stdout",
     "output_type": "stream",
     "text": [
      "    Domain 1  Domain 2  Domain 3  Domain 4  Domain 5  Domain 6  Domain 7  \\\n",
      "0      0.854     0.854    0.8540    0.8540    0.8540    0.8540    0.8540   \n",
      "1        NaN     0.860    0.8600    0.8600    0.8600    0.8600    0.8600   \n",
      "2        NaN       NaN    0.8604    0.8604    0.8604    0.8604    0.8604   \n",
      "3        NaN       NaN       NaN    0.8812    0.8812    0.8812    0.8812   \n",
      "4        NaN       NaN       NaN       NaN    0.8708    0.8708    0.8708   \n",
      "5        NaN       NaN       NaN       NaN       NaN    0.8816    0.8816   \n",
      "6        NaN       NaN       NaN       NaN       NaN       NaN    0.8696   \n",
      "7        NaN       NaN       NaN       NaN       NaN       NaN       NaN   \n",
      "8        NaN       NaN       NaN       NaN       NaN       NaN       NaN   \n",
      "9        NaN       NaN       NaN       NaN       NaN       NaN       NaN   \n",
      "10       NaN       NaN       NaN       NaN       NaN       NaN       NaN   \n",
      "11       NaN       NaN       NaN       NaN       NaN       NaN       NaN   \n",
      "12       NaN       NaN       NaN       NaN       NaN       NaN       NaN   \n",
      "13       NaN       NaN       NaN       NaN       NaN       NaN       NaN   \n",
      "14       NaN       NaN       NaN       NaN       NaN       NaN       NaN   \n",
      "15       NaN       NaN       NaN       NaN       NaN       NaN       NaN   \n",
      "16       NaN       NaN       NaN       NaN       NaN       NaN       NaN   \n",
      "17       NaN       NaN       NaN       NaN       NaN       NaN       NaN   \n",
      "18       NaN       NaN       NaN       NaN       NaN       NaN       NaN   \n",
      "19       NaN       NaN       NaN       NaN       NaN       NaN       NaN   \n",
      "\n",
      "    Domain 8  Domain 9  Domain 10  Domain 11  Domain 12  Domain 13  Domain 14  \\\n",
      "0     0.8540    0.8540     0.8540     0.8540     0.8540     0.8540     0.8540   \n",
      "1     0.8600    0.8600     0.8600     0.8600     0.8600     0.8600     0.8600   \n",
      "2     0.8604    0.8604     0.8604     0.8604     0.8604     0.8604     0.8604   \n",
      "3     0.8812    0.8812     0.8812     0.8812     0.8812     0.8812     0.8812   \n",
      "4     0.8708    0.8708     0.8708     0.8708     0.8708     0.8708     0.8708   \n",
      "5     0.8816    0.8816     0.8816     0.8816     0.8816     0.8816     0.8816   \n",
      "6     0.8696    0.8696     0.8696     0.8696     0.8696     0.8696     0.8696   \n",
      "7     0.8636    0.8636     0.8636     0.8636     0.8636     0.8636     0.8636   \n",
      "8        NaN    0.8716     0.8716     0.8716     0.8716     0.8716     0.8716   \n",
      "9        NaN       NaN     0.8780     0.8780     0.8780     0.8780     0.8780   \n",
      "10       NaN       NaN        NaN     0.1012     0.1012     0.1012     0.1012   \n",
      "11       NaN       NaN        NaN        NaN     0.0972     0.0972     0.0972   \n",
      "12       NaN       NaN        NaN        NaN        NaN     0.0940     0.0940   \n",
      "13       NaN       NaN        NaN        NaN        NaN        NaN     0.0956   \n",
      "14       NaN       NaN        NaN        NaN        NaN        NaN        NaN   \n",
      "15       NaN       NaN        NaN        NaN        NaN        NaN        NaN   \n",
      "16       NaN       NaN        NaN        NaN        NaN        NaN        NaN   \n",
      "17       NaN       NaN        NaN        NaN        NaN        NaN        NaN   \n",
      "18       NaN       NaN        NaN        NaN        NaN        NaN        NaN   \n",
      "19       NaN       NaN        NaN        NaN        NaN        NaN        NaN   \n",
      "\n",
      "    Domain 15  Domain 16  Domain 17  Domain 18  Domain 19  Domain 20  \n",
      "0      0.8540     0.8540     0.8540     0.8540     0.8540     0.8540  \n",
      "1      0.8600     0.8600     0.8600     0.8600     0.8600     0.8600  \n",
      "2      0.8604     0.8604     0.8604     0.8604     0.8604     0.8604  \n",
      "3      0.8812     0.8812     0.8812     0.8812     0.8812     0.8812  \n",
      "4      0.8708     0.8708     0.8708     0.8708     0.8708     0.8708  \n",
      "5      0.8816     0.8816     0.8816     0.8816     0.8816     0.8816  \n",
      "6      0.8696     0.8696     0.8696     0.8696     0.8696     0.8696  \n",
      "7      0.8636     0.8636     0.8636     0.8636     0.8636     0.8636  \n",
      "8      0.8716     0.8716     0.8716     0.8716     0.8716     0.8716  \n",
      "9      0.8780     0.8780     0.8780     0.8780     0.8780     0.8780  \n",
      "10     0.1012     0.1012     0.1012     0.1012     0.1012     0.1012  \n",
      "11     0.0972     0.0972     0.0972     0.0972     0.0972     0.0972  \n",
      "12     0.0940     0.0940     0.0940     0.0940     0.0940     0.0940  \n",
      "13     0.0956     0.0956     0.0956     0.0956     0.0956     0.0956  \n",
      "14     0.0980     0.0980     0.0980     0.0980     0.0980     0.0980  \n",
      "15        NaN     0.1004     0.1004     0.1004     0.1004     0.1004  \n",
      "16        NaN        NaN     0.0936     0.0936     0.0936     0.0936  \n",
      "17        NaN        NaN        NaN     0.0968     0.0968     0.0968  \n",
      "18        NaN        NaN        NaN        NaN     0.0944     0.0944  \n",
      "19        NaN        NaN        NaN        NaN        NaN     0.0996  \n"
     ]
    }
   ],
   "source": [
    "print(df)"
   ]
  }
 ],
 "metadata": {
  "kernelspec": {
   "display_name": "771",
   "language": "python",
   "name": "python3"
  },
  "language_info": {
   "codemirror_mode": {
    "name": "ipython",
    "version": 3
   },
   "file_extension": ".py",
   "mimetype": "text/x-python",
   "name": "python",
   "nbconvert_exporter": "python",
   "pygments_lexer": "ipython3",
   "version": "3.12.5"
  }
 },
 "nbformat": 4,
 "nbformat_minor": 2
}
